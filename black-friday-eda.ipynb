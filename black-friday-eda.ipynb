{
 "cells": [
  {
   "cell_type": "code",
   "execution_count": 1,
   "id": "cdcbf932",
   "metadata": {
    "_cell_guid": "b1076dfc-b9ad-4769-8c92-a6c4dae69d19",
    "_uuid": "8f2839f25d086af736a60e9eeb907d3b93b6e0e5",
    "execution": {
     "iopub.execute_input": "2024-05-19T09:36:49.718831Z",
     "iopub.status.busy": "2024-05-19T09:36:49.718362Z",
     "iopub.status.idle": "2024-05-19T09:36:52.358892Z",
     "shell.execute_reply": "2024-05-19T09:36:52.357591Z"
    },
    "papermill": {
     "duration": 2.662334,
     "end_time": "2024-05-19T09:36:52.361835",
     "exception": false,
     "start_time": "2024-05-19T09:36:49.699501",
     "status": "completed"
    },
    "tags": []
   },
   "outputs": [
    {
     "name": "stdout",
     "output_type": "stream",
     "text": [
      "/kaggle/input/black-friday-sales-eda/train.csv\n"
     ]
    }
   ],
   "source": [
    "# This Python 3 environment comes with many helpful analytics libraries installed\n",
    "# It is defined by the kaggle/python Docker image: https://github.com/kaggle/docker-python\n",
    "# For example, here's several helpful packages to load\n",
    "\n",
    "import numpy as np # linear algebra\n",
    "import pandas as pd\n",
    "import seaborn as sns\n",
    "import matplotlib.pyplot as plt\n",
    "from scipy import stats\n",
    "\n",
    "\n",
    "# Input data files are available in the read-only \"../input/\" directory\n",
    "# For example, running this (by clicking run or pressing Shift+Enter) will list all files under the input directory\n",
    "\n",
    "import os\n",
    "for dirname, _, filenames in os.walk('/kaggle/input'):\n",
    "    for filename in filenames:\n",
    "        print(os.path.join(dirname, filename))\n",
    "\n",
    "# You can write up to 20GB to the current directory (/kaggle/working/) that gets preserved as output when you create a version using \"Save & Run All\" \n",
    "# You can also write temporary files to /kaggle/temp/, but they won't be saved outside of the current session"
   ]
  },
  {
   "cell_type": "markdown",
   "id": "0488222c",
   "metadata": {
    "papermill": {
     "duration": 0.016837,
     "end_time": "2024-05-19T09:36:52.395747",
     "exception": false,
     "start_time": "2024-05-19T09:36:52.378910",
     "status": "completed"
    },
    "tags": []
   },
   "source": [
    "# Importing the Dataset"
   ]
  },
  {
   "cell_type": "markdown",
   "id": "2f5e3cca",
   "metadata": {
    "papermill": {
     "duration": 0.016624,
     "end_time": "2024-05-19T09:36:52.429344",
     "exception": false,
     "start_time": "2024-05-19T09:36:52.412720",
     "status": "completed"
    },
    "tags": []
   },
   "source": []
  },
  {
   "cell_type": "code",
   "execution_count": 2,
   "id": "cddbf0cd",
   "metadata": {
    "execution": {
     "iopub.execute_input": "2024-05-19T09:36:52.465942Z",
     "iopub.status.busy": "2024-05-19T09:36:52.465382Z",
     "iopub.status.idle": "2024-05-19T09:36:53.808057Z",
     "shell.execute_reply": "2024-05-19T09:36:53.806537Z"
    },
    "papermill": {
     "duration": 1.365024,
     "end_time": "2024-05-19T09:36:53.812191",
     "exception": false,
     "start_time": "2024-05-19T09:36:52.447167",
     "status": "completed"
    },
    "tags": []
   },
   "outputs": [
    {
     "data": {
      "text/html": [
       "<div>\n",
       "<style scoped>\n",
       "    .dataframe tbody tr th:only-of-type {\n",
       "        vertical-align: middle;\n",
       "    }\n",
       "\n",
       "    .dataframe tbody tr th {\n",
       "        vertical-align: top;\n",
       "    }\n",
       "\n",
       "    .dataframe thead th {\n",
       "        text-align: right;\n",
       "    }\n",
       "</style>\n",
       "<table border=\"1\" class=\"dataframe\">\n",
       "  <thead>\n",
       "    <tr style=\"text-align: right;\">\n",
       "      <th></th>\n",
       "      <th>User_ID</th>\n",
       "      <th>Product_ID</th>\n",
       "      <th>Gender</th>\n",
       "      <th>Age</th>\n",
       "      <th>Occupation</th>\n",
       "      <th>City_Category</th>\n",
       "      <th>Stay_In_Current_City_Years</th>\n",
       "      <th>Marital_Status</th>\n",
       "      <th>Product_Category_1</th>\n",
       "      <th>Product_Category_2</th>\n",
       "      <th>Product_Category_3</th>\n",
       "      <th>Purchase</th>\n",
       "    </tr>\n",
       "  </thead>\n",
       "  <tbody>\n",
       "    <tr>\n",
       "      <th>0</th>\n",
       "      <td>1000001</td>\n",
       "      <td>P00069042</td>\n",
       "      <td>F</td>\n",
       "      <td>0-17</td>\n",
       "      <td>10</td>\n",
       "      <td>A</td>\n",
       "      <td>2</td>\n",
       "      <td>0</td>\n",
       "      <td>3</td>\n",
       "      <td>NaN</td>\n",
       "      <td>NaN</td>\n",
       "      <td>8370</td>\n",
       "    </tr>\n",
       "    <tr>\n",
       "      <th>1</th>\n",
       "      <td>1000001</td>\n",
       "      <td>P00248942</td>\n",
       "      <td>F</td>\n",
       "      <td>0-17</td>\n",
       "      <td>10</td>\n",
       "      <td>A</td>\n",
       "      <td>2</td>\n",
       "      <td>0</td>\n",
       "      <td>1</td>\n",
       "      <td>6.0</td>\n",
       "      <td>14.0</td>\n",
       "      <td>15200</td>\n",
       "    </tr>\n",
       "    <tr>\n",
       "      <th>2</th>\n",
       "      <td>1000001</td>\n",
       "      <td>P00087842</td>\n",
       "      <td>F</td>\n",
       "      <td>0-17</td>\n",
       "      <td>10</td>\n",
       "      <td>A</td>\n",
       "      <td>2</td>\n",
       "      <td>0</td>\n",
       "      <td>12</td>\n",
       "      <td>NaN</td>\n",
       "      <td>NaN</td>\n",
       "      <td>1422</td>\n",
       "    </tr>\n",
       "    <tr>\n",
       "      <th>3</th>\n",
       "      <td>1000001</td>\n",
       "      <td>P00085442</td>\n",
       "      <td>F</td>\n",
       "      <td>0-17</td>\n",
       "      <td>10</td>\n",
       "      <td>A</td>\n",
       "      <td>2</td>\n",
       "      <td>0</td>\n",
       "      <td>12</td>\n",
       "      <td>14.0</td>\n",
       "      <td>NaN</td>\n",
       "      <td>1057</td>\n",
       "    </tr>\n",
       "    <tr>\n",
       "      <th>4</th>\n",
       "      <td>1000002</td>\n",
       "      <td>P00285442</td>\n",
       "      <td>M</td>\n",
       "      <td>55+</td>\n",
       "      <td>16</td>\n",
       "      <td>C</td>\n",
       "      <td>4+</td>\n",
       "      <td>0</td>\n",
       "      <td>8</td>\n",
       "      <td>NaN</td>\n",
       "      <td>NaN</td>\n",
       "      <td>7969</td>\n",
       "    </tr>\n",
       "    <tr>\n",
       "      <th>...</th>\n",
       "      <td>...</td>\n",
       "      <td>...</td>\n",
       "      <td>...</td>\n",
       "      <td>...</td>\n",
       "      <td>...</td>\n",
       "      <td>...</td>\n",
       "      <td>...</td>\n",
       "      <td>...</td>\n",
       "      <td>...</td>\n",
       "      <td>...</td>\n",
       "      <td>...</td>\n",
       "      <td>...</td>\n",
       "    </tr>\n",
       "    <tr>\n",
       "      <th>550063</th>\n",
       "      <td>1006033</td>\n",
       "      <td>P00372445</td>\n",
       "      <td>M</td>\n",
       "      <td>51-55</td>\n",
       "      <td>13</td>\n",
       "      <td>B</td>\n",
       "      <td>1</td>\n",
       "      <td>1</td>\n",
       "      <td>20</td>\n",
       "      <td>NaN</td>\n",
       "      <td>NaN</td>\n",
       "      <td>368</td>\n",
       "    </tr>\n",
       "    <tr>\n",
       "      <th>550064</th>\n",
       "      <td>1006035</td>\n",
       "      <td>P00375436</td>\n",
       "      <td>F</td>\n",
       "      <td>26-35</td>\n",
       "      <td>1</td>\n",
       "      <td>C</td>\n",
       "      <td>3</td>\n",
       "      <td>0</td>\n",
       "      <td>20</td>\n",
       "      <td>NaN</td>\n",
       "      <td>NaN</td>\n",
       "      <td>371</td>\n",
       "    </tr>\n",
       "    <tr>\n",
       "      <th>550065</th>\n",
       "      <td>1006036</td>\n",
       "      <td>P00375436</td>\n",
       "      <td>F</td>\n",
       "      <td>26-35</td>\n",
       "      <td>15</td>\n",
       "      <td>B</td>\n",
       "      <td>4+</td>\n",
       "      <td>1</td>\n",
       "      <td>20</td>\n",
       "      <td>NaN</td>\n",
       "      <td>NaN</td>\n",
       "      <td>137</td>\n",
       "    </tr>\n",
       "    <tr>\n",
       "      <th>550066</th>\n",
       "      <td>1006038</td>\n",
       "      <td>P00375436</td>\n",
       "      <td>F</td>\n",
       "      <td>55+</td>\n",
       "      <td>1</td>\n",
       "      <td>C</td>\n",
       "      <td>2</td>\n",
       "      <td>0</td>\n",
       "      <td>20</td>\n",
       "      <td>NaN</td>\n",
       "      <td>NaN</td>\n",
       "      <td>365</td>\n",
       "    </tr>\n",
       "    <tr>\n",
       "      <th>550067</th>\n",
       "      <td>1006039</td>\n",
       "      <td>P00371644</td>\n",
       "      <td>F</td>\n",
       "      <td>46-50</td>\n",
       "      <td>0</td>\n",
       "      <td>B</td>\n",
       "      <td>4+</td>\n",
       "      <td>1</td>\n",
       "      <td>20</td>\n",
       "      <td>NaN</td>\n",
       "      <td>NaN</td>\n",
       "      <td>490</td>\n",
       "    </tr>\n",
       "  </tbody>\n",
       "</table>\n",
       "<p>550068 rows × 12 columns</p>\n",
       "</div>"
      ],
      "text/plain": [
       "        User_ID Product_ID Gender    Age  Occupation City_Category  \\\n",
       "0       1000001  P00069042      F   0-17          10             A   \n",
       "1       1000001  P00248942      F   0-17          10             A   \n",
       "2       1000001  P00087842      F   0-17          10             A   \n",
       "3       1000001  P00085442      F   0-17          10             A   \n",
       "4       1000002  P00285442      M    55+          16             C   \n",
       "...         ...        ...    ...    ...         ...           ...   \n",
       "550063  1006033  P00372445      M  51-55          13             B   \n",
       "550064  1006035  P00375436      F  26-35           1             C   \n",
       "550065  1006036  P00375436      F  26-35          15             B   \n",
       "550066  1006038  P00375436      F    55+           1             C   \n",
       "550067  1006039  P00371644      F  46-50           0             B   \n",
       "\n",
       "       Stay_In_Current_City_Years  Marital_Status  Product_Category_1  \\\n",
       "0                               2               0                   3   \n",
       "1                               2               0                   1   \n",
       "2                               2               0                  12   \n",
       "3                               2               0                  12   \n",
       "4                              4+               0                   8   \n",
       "...                           ...             ...                 ...   \n",
       "550063                          1               1                  20   \n",
       "550064                          3               0                  20   \n",
       "550065                         4+               1                  20   \n",
       "550066                          2               0                  20   \n",
       "550067                         4+               1                  20   \n",
       "\n",
       "        Product_Category_2  Product_Category_3  Purchase  \n",
       "0                      NaN                 NaN      8370  \n",
       "1                      6.0                14.0     15200  \n",
       "2                      NaN                 NaN      1422  \n",
       "3                     14.0                 NaN      1057  \n",
       "4                      NaN                 NaN      7969  \n",
       "...                    ...                 ...       ...  \n",
       "550063                 NaN                 NaN       368  \n",
       "550064                 NaN                 NaN       371  \n",
       "550065                 NaN                 NaN       137  \n",
       "550066                 NaN                 NaN       365  \n",
       "550067                 NaN                 NaN       490  \n",
       "\n",
       "[550068 rows x 12 columns]"
      ]
     },
     "execution_count": 2,
     "metadata": {},
     "output_type": "execute_result"
    }
   ],
   "source": [
    "df = pd.read_csv(\"/kaggle/input/black-friday-sales-eda/train.csv\")\n",
    "df"
   ]
  },
  {
   "cell_type": "markdown",
   "id": "2748a48b",
   "metadata": {
    "papermill": {
     "duration": 0.021993,
     "end_time": "2024-05-19T09:36:53.860480",
     "exception": false,
     "start_time": "2024-05-19T09:36:53.838487",
     "status": "completed"
    },
    "tags": []
   },
   "source": [
    "# Dataset Info"
   ]
  },
  {
   "cell_type": "markdown",
   "id": "d688e77f",
   "metadata": {
    "papermill": {
     "duration": 0.016846,
     "end_time": "2024-05-19T09:36:53.898278",
     "exception": false,
     "start_time": "2024-05-19T09:36:53.881432",
     "status": "completed"
    },
    "tags": []
   },
   "source": [
    "Basic Statistics of Dataset"
   ]
  },
  {
   "cell_type": "code",
   "execution_count": 3,
   "id": "462f644f",
   "metadata": {
    "execution": {
     "iopub.execute_input": "2024-05-19T09:36:53.934572Z",
     "iopub.status.busy": "2024-05-19T09:36:53.934139Z",
     "iopub.status.idle": "2024-05-19T09:36:54.129022Z",
     "shell.execute_reply": "2024-05-19T09:36:54.127802Z"
    },
    "papermill": {
     "duration": 0.216165,
     "end_time": "2024-05-19T09:36:54.131785",
     "exception": false,
     "start_time": "2024-05-19T09:36:53.915620",
     "status": "completed"
    },
    "tags": []
   },
   "outputs": [
    {
     "data": {
      "text/html": [
       "<div>\n",
       "<style scoped>\n",
       "    .dataframe tbody tr th:only-of-type {\n",
       "        vertical-align: middle;\n",
       "    }\n",
       "\n",
       "    .dataframe tbody tr th {\n",
       "        vertical-align: top;\n",
       "    }\n",
       "\n",
       "    .dataframe thead th {\n",
       "        text-align: right;\n",
       "    }\n",
       "</style>\n",
       "<table border=\"1\" class=\"dataframe\">\n",
       "  <thead>\n",
       "    <tr style=\"text-align: right;\">\n",
       "      <th></th>\n",
       "      <th>User_ID</th>\n",
       "      <th>Occupation</th>\n",
       "      <th>Marital_Status</th>\n",
       "      <th>Product_Category_1</th>\n",
       "      <th>Product_Category_2</th>\n",
       "      <th>Product_Category_3</th>\n",
       "      <th>Purchase</th>\n",
       "    </tr>\n",
       "  </thead>\n",
       "  <tbody>\n",
       "    <tr>\n",
       "      <th>count</th>\n",
       "      <td>5.500680e+05</td>\n",
       "      <td>550068.000000</td>\n",
       "      <td>550068.000000</td>\n",
       "      <td>550068.000000</td>\n",
       "      <td>376430.000000</td>\n",
       "      <td>166821.000000</td>\n",
       "      <td>550068.000000</td>\n",
       "    </tr>\n",
       "    <tr>\n",
       "      <th>mean</th>\n",
       "      <td>1.003029e+06</td>\n",
       "      <td>8.076707</td>\n",
       "      <td>0.409653</td>\n",
       "      <td>5.404270</td>\n",
       "      <td>9.842329</td>\n",
       "      <td>12.668243</td>\n",
       "      <td>9263.968713</td>\n",
       "    </tr>\n",
       "    <tr>\n",
       "      <th>std</th>\n",
       "      <td>1.727592e+03</td>\n",
       "      <td>6.522660</td>\n",
       "      <td>0.491770</td>\n",
       "      <td>3.936211</td>\n",
       "      <td>5.086590</td>\n",
       "      <td>4.125338</td>\n",
       "      <td>5023.065394</td>\n",
       "    </tr>\n",
       "    <tr>\n",
       "      <th>min</th>\n",
       "      <td>1.000001e+06</td>\n",
       "      <td>0.000000</td>\n",
       "      <td>0.000000</td>\n",
       "      <td>1.000000</td>\n",
       "      <td>2.000000</td>\n",
       "      <td>3.000000</td>\n",
       "      <td>12.000000</td>\n",
       "    </tr>\n",
       "    <tr>\n",
       "      <th>25%</th>\n",
       "      <td>1.001516e+06</td>\n",
       "      <td>2.000000</td>\n",
       "      <td>0.000000</td>\n",
       "      <td>1.000000</td>\n",
       "      <td>5.000000</td>\n",
       "      <td>9.000000</td>\n",
       "      <td>5823.000000</td>\n",
       "    </tr>\n",
       "    <tr>\n",
       "      <th>50%</th>\n",
       "      <td>1.003077e+06</td>\n",
       "      <td>7.000000</td>\n",
       "      <td>0.000000</td>\n",
       "      <td>5.000000</td>\n",
       "      <td>9.000000</td>\n",
       "      <td>14.000000</td>\n",
       "      <td>8047.000000</td>\n",
       "    </tr>\n",
       "    <tr>\n",
       "      <th>75%</th>\n",
       "      <td>1.004478e+06</td>\n",
       "      <td>14.000000</td>\n",
       "      <td>1.000000</td>\n",
       "      <td>8.000000</td>\n",
       "      <td>15.000000</td>\n",
       "      <td>16.000000</td>\n",
       "      <td>12054.000000</td>\n",
       "    </tr>\n",
       "    <tr>\n",
       "      <th>max</th>\n",
       "      <td>1.006040e+06</td>\n",
       "      <td>20.000000</td>\n",
       "      <td>1.000000</td>\n",
       "      <td>20.000000</td>\n",
       "      <td>18.000000</td>\n",
       "      <td>18.000000</td>\n",
       "      <td>23961.000000</td>\n",
       "    </tr>\n",
       "  </tbody>\n",
       "</table>\n",
       "</div>"
      ],
      "text/plain": [
       "            User_ID     Occupation  Marital_Status  Product_Category_1  \\\n",
       "count  5.500680e+05  550068.000000   550068.000000       550068.000000   \n",
       "mean   1.003029e+06       8.076707        0.409653            5.404270   \n",
       "std    1.727592e+03       6.522660        0.491770            3.936211   \n",
       "min    1.000001e+06       0.000000        0.000000            1.000000   \n",
       "25%    1.001516e+06       2.000000        0.000000            1.000000   \n",
       "50%    1.003077e+06       7.000000        0.000000            5.000000   \n",
       "75%    1.004478e+06      14.000000        1.000000            8.000000   \n",
       "max    1.006040e+06      20.000000        1.000000           20.000000   \n",
       "\n",
       "       Product_Category_2  Product_Category_3       Purchase  \n",
       "count       376430.000000       166821.000000  550068.000000  \n",
       "mean             9.842329           12.668243    9263.968713  \n",
       "std              5.086590            4.125338    5023.065394  \n",
       "min              2.000000            3.000000      12.000000  \n",
       "25%              5.000000            9.000000    5823.000000  \n",
       "50%              9.000000           14.000000    8047.000000  \n",
       "75%             15.000000           16.000000   12054.000000  \n",
       "max             18.000000           18.000000   23961.000000  "
      ]
     },
     "execution_count": 3,
     "metadata": {},
     "output_type": "execute_result"
    }
   ],
   "source": [
    "df.describe()"
   ]
  },
  {
   "cell_type": "markdown",
   "id": "31a5b8ce",
   "metadata": {
    "papermill": {
     "duration": 0.018333,
     "end_time": "2024-05-19T09:36:54.167885",
     "exception": false,
     "start_time": "2024-05-19T09:36:54.149552",
     "status": "completed"
    },
    "tags": []
   },
   "source": [
    "Missing Values in the Data"
   ]
  },
  {
   "cell_type": "code",
   "execution_count": 4,
   "id": "210e5ec3",
   "metadata": {
    "execution": {
     "iopub.execute_input": "2024-05-19T09:36:54.205276Z",
     "iopub.status.busy": "2024-05-19T09:36:54.204856Z",
     "iopub.status.idle": "2024-05-19T09:36:54.513524Z",
     "shell.execute_reply": "2024-05-19T09:36:54.512306Z"
    },
    "papermill": {
     "duration": 0.330603,
     "end_time": "2024-05-19T09:36:54.516261",
     "exception": false,
     "start_time": "2024-05-19T09:36:54.185658",
     "status": "completed"
    },
    "tags": []
   },
   "outputs": [
    {
     "data": {
      "text/plain": [
       "User_ID                            0\n",
       "Product_ID                         0\n",
       "Gender                             0\n",
       "Age                                0\n",
       "Occupation                         0\n",
       "City_Category                      0\n",
       "Stay_In_Current_City_Years         0\n",
       "Marital_Status                     0\n",
       "Product_Category_1                 0\n",
       "Product_Category_2            173638\n",
       "Product_Category_3            383247\n",
       "Purchase                           0\n",
       "dtype: int64"
      ]
     },
     "execution_count": 4,
     "metadata": {},
     "output_type": "execute_result"
    }
   ],
   "source": [
    "df.isnull().sum()"
   ]
  },
  {
   "cell_type": "markdown",
   "id": "c609b9c7",
   "metadata": {
    "papermill": {
     "duration": 0.017611,
     "end_time": "2024-05-19T09:36:54.553276",
     "exception": false,
     "start_time": "2024-05-19T09:36:54.535665",
     "status": "completed"
    },
    "tags": []
   },
   "source": [
    "Unique Values in Data"
   ]
  },
  {
   "cell_type": "code",
   "execution_count": 5,
   "id": "badcc780",
   "metadata": {
    "execution": {
     "iopub.execute_input": "2024-05-19T09:36:54.591700Z",
     "iopub.status.busy": "2024-05-19T09:36:54.591274Z",
     "iopub.status.idle": "2024-05-19T09:36:54.605658Z",
     "shell.execute_reply": "2024-05-19T09:36:54.604485Z"
    },
    "papermill": {
     "duration": 0.036535,
     "end_time": "2024-05-19T09:36:54.608337",
     "exception": false,
     "start_time": "2024-05-19T09:36:54.571802",
     "status": "completed"
    },
    "tags": []
   },
   "outputs": [
    {
     "data": {
      "text/plain": [
       "array([1000001, 1000002, 1000003, ..., 1004113, 1005391, 1001529])"
      ]
     },
     "execution_count": 5,
     "metadata": {},
     "output_type": "execute_result"
    }
   ],
   "source": [
    "df['User_ID'].unique()"
   ]
  },
  {
   "cell_type": "code",
   "execution_count": 6,
   "id": "c68acc02",
   "metadata": {
    "execution": {
     "iopub.execute_input": "2024-05-19T09:36:54.648371Z",
     "iopub.status.busy": "2024-05-19T09:36:54.647951Z",
     "iopub.status.idle": "2024-05-19T09:36:54.712068Z",
     "shell.execute_reply": "2024-05-19T09:36:54.710840Z"
    },
    "papermill": {
     "duration": 0.086902,
     "end_time": "2024-05-19T09:36:54.714930",
     "exception": false,
     "start_time": "2024-05-19T09:36:54.628028",
     "status": "completed"
    },
    "tags": []
   },
   "outputs": [
    {
     "data": {
      "text/plain": [
       "array(['P00069042', 'P00248942', 'P00087842', ..., 'P00370293',\n",
       "       'P00371644', 'P00370853'], dtype=object)"
      ]
     },
     "execution_count": 6,
     "metadata": {},
     "output_type": "execute_result"
    }
   ],
   "source": [
    "df['Product_ID'].unique()"
   ]
  },
  {
   "cell_type": "code",
   "execution_count": 7,
   "id": "91b293df",
   "metadata": {
    "execution": {
     "iopub.execute_input": "2024-05-19T09:36:54.754506Z",
     "iopub.status.busy": "2024-05-19T09:36:54.754109Z",
     "iopub.status.idle": "2024-05-19T09:36:54.806507Z",
     "shell.execute_reply": "2024-05-19T09:36:54.805245Z"
    },
    "papermill": {
     "duration": 0.075588,
     "end_time": "2024-05-19T09:36:54.808962",
     "exception": false,
     "start_time": "2024-05-19T09:36:54.733374",
     "status": "completed"
    },
    "tags": []
   },
   "outputs": [
    {
     "data": {
      "text/plain": [
       "array(['0-17', '55+', '26-35', '46-50', '51-55', '36-45', '18-25'],\n",
       "      dtype=object)"
      ]
     },
     "execution_count": 7,
     "metadata": {},
     "output_type": "execute_result"
    }
   ],
   "source": [
    "df['Age'].unique()"
   ]
  },
  {
   "cell_type": "code",
   "execution_count": 8,
   "id": "5bbd0011",
   "metadata": {
    "execution": {
     "iopub.execute_input": "2024-05-19T09:36:54.848076Z",
     "iopub.status.busy": "2024-05-19T09:36:54.847179Z",
     "iopub.status.idle": "2024-05-19T09:36:54.859379Z",
     "shell.execute_reply": "2024-05-19T09:36:54.858171Z"
    },
    "papermill": {
     "duration": 0.034841,
     "end_time": "2024-05-19T09:36:54.862109",
     "exception": false,
     "start_time": "2024-05-19T09:36:54.827268",
     "status": "completed"
    },
    "tags": []
   },
   "outputs": [
    {
     "data": {
      "text/plain": [
       "array([10, 16, 15,  7, 20,  9,  1, 12, 17,  0,  3,  4, 11,  8, 19,  2, 18,\n",
       "        5, 14, 13,  6])"
      ]
     },
     "execution_count": 8,
     "metadata": {},
     "output_type": "execute_result"
    }
   ],
   "source": [
    "df['Occupation'].unique()"
   ]
  },
  {
   "cell_type": "code",
   "execution_count": 9,
   "id": "125f0ef4",
   "metadata": {
    "execution": {
     "iopub.execute_input": "2024-05-19T09:36:54.900793Z",
     "iopub.status.busy": "2024-05-19T09:36:54.900345Z",
     "iopub.status.idle": "2024-05-19T09:36:54.950494Z",
     "shell.execute_reply": "2024-05-19T09:36:54.949268Z"
    },
    "papermill": {
     "duration": 0.072774,
     "end_time": "2024-05-19T09:36:54.953258",
     "exception": false,
     "start_time": "2024-05-19T09:36:54.880484",
     "status": "completed"
    },
    "tags": []
   },
   "outputs": [
    {
     "data": {
      "text/plain": [
       "array(['A', 'C', 'B'], dtype=object)"
      ]
     },
     "execution_count": 9,
     "metadata": {},
     "output_type": "execute_result"
    }
   ],
   "source": [
    "df['City_Category'].unique()"
   ]
  },
  {
   "cell_type": "code",
   "execution_count": 10,
   "id": "99d17680",
   "metadata": {
    "execution": {
     "iopub.execute_input": "2024-05-19T09:36:54.994226Z",
     "iopub.status.busy": "2024-05-19T09:36:54.993815Z",
     "iopub.status.idle": "2024-05-19T09:36:55.043672Z",
     "shell.execute_reply": "2024-05-19T09:36:55.042498Z"
    },
    "papermill": {
     "duration": 0.07389,
     "end_time": "2024-05-19T09:36:55.046380",
     "exception": false,
     "start_time": "2024-05-19T09:36:54.972490",
     "status": "completed"
    },
    "tags": []
   },
   "outputs": [
    {
     "data": {
      "text/plain": [
       "array(['2', '4+', '3', '1', '0'], dtype=object)"
      ]
     },
     "execution_count": 10,
     "metadata": {},
     "output_type": "execute_result"
    }
   ],
   "source": [
    "df['Stay_In_Current_City_Years'].unique()"
   ]
  },
  {
   "cell_type": "code",
   "execution_count": 11,
   "id": "b2812257",
   "metadata": {
    "execution": {
     "iopub.execute_input": "2024-05-19T09:36:55.086953Z",
     "iopub.status.busy": "2024-05-19T09:36:55.086560Z",
     "iopub.status.idle": "2024-05-19T09:36:55.098801Z",
     "shell.execute_reply": "2024-05-19T09:36:55.097566Z"
    },
    "papermill": {
     "duration": 0.036284,
     "end_time": "2024-05-19T09:36:55.101619",
     "exception": false,
     "start_time": "2024-05-19T09:36:55.065335",
     "status": "completed"
    },
    "tags": []
   },
   "outputs": [
    {
     "data": {
      "text/plain": [
       "array([ 3,  1, 12,  8,  5,  4,  2,  6, 14, 11, 13, 15,  7, 16, 18, 10, 17,\n",
       "        9, 20, 19])"
      ]
     },
     "execution_count": 11,
     "metadata": {},
     "output_type": "execute_result"
    }
   ],
   "source": [
    "df['Product_Category_1'].unique()"
   ]
  },
  {
   "cell_type": "markdown",
   "id": "3575efee",
   "metadata": {
    "papermill": {
     "duration": 0.01883,
     "end_time": "2024-05-19T09:36:55.139639",
     "exception": false,
     "start_time": "2024-05-19T09:36:55.120809",
     "status": "completed"
    },
    "tags": []
   },
   "source": [
    "# Purchase Distribution"
   ]
  },
  {
   "cell_type": "code",
   "execution_count": 12,
   "id": "678909c9",
   "metadata": {
    "execution": {
     "iopub.execute_input": "2024-05-19T09:36:55.181715Z",
     "iopub.status.busy": "2024-05-19T09:36:55.181286Z",
     "iopub.status.idle": "2024-05-19T09:36:58.354067Z",
     "shell.execute_reply": "2024-05-19T09:36:58.352963Z"
    },
    "papermill": {
     "duration": 3.196576,
     "end_time": "2024-05-19T09:36:58.357221",
     "exception": false,
     "start_time": "2024-05-19T09:36:55.160645",
     "status": "completed"
    },
    "tags": []
   },
   "outputs": [
    {
     "name": "stderr",
     "output_type": "stream",
     "text": [
      "/opt/conda/lib/python3.10/site-packages/seaborn/_oldcore.py:1119: FutureWarning: use_inf_as_na option is deprecated and will be removed in a future version. Convert inf values to NaN before operating instead.\n",
      "  with pd.option_context('mode.use_inf_as_na', True):\n"
     ]
    },
    {
     "data": {
      "text/plain": [
       "<Axes: xlabel='Purchase', ylabel='Density'>"
      ]
     },
     "execution_count": 12,
     "metadata": {},
     "output_type": "execute_result"
    },
    {
     "data": {
      "image/png": "[encoded data removed]",
      "text/plain": [
       "<Figure size 640x480 with 1 Axes>"
      ]
     },
     "metadata": {},
     "output_type": "display_data"
    }
   ],
   "source": [
    "sns.kdeplot(df['Purchase'])"
   ]
  },
  {
   "cell_type": "markdown",
   "id": "589e913c",
   "metadata": {
    "papermill": {
     "duration": 0.020252,
     "end_time": "2024-05-19T09:36:58.398108",
     "exception": false,
     "start_time": "2024-05-19T09:36:58.377856",
     "status": "completed"
    },
    "tags": []
   },
   "source": [
    "It seems that purchase quantity is higher between 5000 to 10000"
   ]
  },
  {
   "cell_type": "markdown",
   "id": "994671ed",
   "metadata": {
    "papermill": {
     "duration": 0.020259,
     "end_time": "2024-05-19T09:36:58.438540",
     "exception": false,
     "start_time": "2024-05-19T09:36:58.418281",
     "status": "completed"
    },
    "tags": []
   },
   "source": [
    "# Data Cleaning"
   ]
  },
  {
   "cell_type": "markdown",
   "id": "e11b5941",
   "metadata": {
    "papermill": {
     "duration": 0.08306,
     "end_time": "2024-05-19T09:36:58.541628",
     "exception": false,
     "start_time": "2024-05-19T09:36:58.458568",
     "status": "completed"
    },
    "tags": []
   },
   "source": [
    "### Converting Categorical Data into Integer using Map Function 'Gender' column"
   ]
  },
  {
   "cell_type": "code",
   "execution_count": 13,
   "id": "bf0e1e39",
   "metadata": {
    "execution": {
     "iopub.execute_input": "2024-05-19T09:36:58.583615Z",
     "iopub.status.busy": "2024-05-19T09:36:58.583163Z",
     "iopub.status.idle": "2024-05-19T09:36:58.660662Z",
     "shell.execute_reply": "2024-05-19T09:36:58.659415Z"
    },
    "papermill": {
     "duration": 0.1016,
     "end_time": "2024-05-19T09:36:58.663441",
     "exception": false,
     "start_time": "2024-05-19T09:36:58.561841",
     "status": "completed"
    },
    "tags": []
   },
   "outputs": [
    {
     "data": {
      "text/html": [
       "<div>\n",
       "<style scoped>\n",
       "    .dataframe tbody tr th:only-of-type {\n",
       "        vertical-align: middle;\n",
       "    }\n",
       "\n",
       "    .dataframe tbody tr th {\n",
       "        vertical-align: top;\n",
       "    }\n",
       "\n",
       "    .dataframe thead th {\n",
       "        text-align: right;\n",
       "    }\n",
       "</style>\n",
       "<table border=\"1\" class=\"dataframe\">\n",
       "  <thead>\n",
       "    <tr style=\"text-align: right;\">\n",
       "      <th></th>\n",
       "      <th>User_ID</th>\n",
       "      <th>Product_ID</th>\n",
       "      <th>Gender</th>\n",
       "      <th>Age</th>\n",
       "      <th>Occupation</th>\n",
       "      <th>City_Category</th>\n",
       "      <th>Stay_In_Current_City_Years</th>\n",
       "      <th>Marital_Status</th>\n",
       "      <th>Product_Category_1</th>\n",
       "      <th>Product_Category_2</th>\n",
       "      <th>Product_Category_3</th>\n",
       "      <th>Purchase</th>\n",
       "    </tr>\n",
       "  </thead>\n",
       "  <tbody>\n",
       "    <tr>\n",
       "      <th>0</th>\n",
       "      <td>1000001</td>\n",
       "      <td>P00069042</td>\n",
       "      <td>0</td>\n",
       "      <td>0-17</td>\n",
       "      <td>10</td>\n",
       "      <td>A</td>\n",
       "      <td>2</td>\n",
       "      <td>0</td>\n",
       "      <td>3</td>\n",
       "      <td>NaN</td>\n",
       "      <td>NaN</td>\n",
       "      <td>8370</td>\n",
       "    </tr>\n",
       "    <tr>\n",
       "      <th>1</th>\n",
       "      <td>1000001</td>\n",
       "      <td>P00248942</td>\n",
       "      <td>0</td>\n",
       "      <td>0-17</td>\n",
       "      <td>10</td>\n",
       "      <td>A</td>\n",
       "      <td>2</td>\n",
       "      <td>0</td>\n",
       "      <td>1</td>\n",
       "      <td>6.0</td>\n",
       "      <td>14.0</td>\n",
       "      <td>15200</td>\n",
       "    </tr>\n",
       "    <tr>\n",
       "      <th>2</th>\n",
       "      <td>1000001</td>\n",
       "      <td>P00087842</td>\n",
       "      <td>0</td>\n",
       "      <td>0-17</td>\n",
       "      <td>10</td>\n",
       "      <td>A</td>\n",
       "      <td>2</td>\n",
       "      <td>0</td>\n",
       "      <td>12</td>\n",
       "      <td>NaN</td>\n",
       "      <td>NaN</td>\n",
       "      <td>1422</td>\n",
       "    </tr>\n",
       "    <tr>\n",
       "      <th>3</th>\n",
       "      <td>1000001</td>\n",
       "      <td>P00085442</td>\n",
       "      <td>0</td>\n",
       "      <td>0-17</td>\n",
       "      <td>10</td>\n",
       "      <td>A</td>\n",
       "      <td>2</td>\n",
       "      <td>0</td>\n",
       "      <td>12</td>\n",
       "      <td>14.0</td>\n",
       "      <td>NaN</td>\n",
       "      <td>1057</td>\n",
       "    </tr>\n",
       "    <tr>\n",
       "      <th>4</th>\n",
       "      <td>1000002</td>\n",
       "      <td>P00285442</td>\n",
       "      <td>1</td>\n",
       "      <td>55+</td>\n",
       "      <td>16</td>\n",
       "      <td>C</td>\n",
       "      <td>4+</td>\n",
       "      <td>0</td>\n",
       "      <td>8</td>\n",
       "      <td>NaN</td>\n",
       "      <td>NaN</td>\n",
       "      <td>7969</td>\n",
       "    </tr>\n",
       "    <tr>\n",
       "      <th>...</th>\n",
       "      <td>...</td>\n",
       "      <td>...</td>\n",
       "      <td>...</td>\n",
       "      <td>...</td>\n",
       "      <td>...</td>\n",
       "      <td>...</td>\n",
       "      <td>...</td>\n",
       "      <td>...</td>\n",
       "      <td>...</td>\n",
       "      <td>...</td>\n",
       "      <td>...</td>\n",
       "      <td>...</td>\n",
       "    </tr>\n",
       "    <tr>\n",
       "      <th>550063</th>\n",
       "      <td>1006033</td>\n",
       "      <td>P00372445</td>\n",
       "      <td>1</td>\n",
       "      <td>51-55</td>\n",
       "      <td>13</td>\n",
       "      <td>B</td>\n",
       "      <td>1</td>\n",
       "      <td>1</td>\n",
       "      <td>20</td>\n",
       "      <td>NaN</td>\n",
       "      <td>NaN</td>\n",
       "      <td>368</td>\n",
       "    </tr>\n",
       "    <tr>\n",
       "      <th>550064</th>\n",
       "      <td>1006035</td>\n",
       "      <td>P00375436</td>\n",
       "      <td>0</td>\n",
       "      <td>26-35</td>\n",
       "      <td>1</td>\n",
       "      <td>C</td>\n",
       "      <td>3</td>\n",
       "      <td>0</td>\n",
       "      <td>20</td>\n",
       "      <td>NaN</td>\n",
       "      <td>NaN</td>\n",
       "      <td>371</td>\n",
       "    </tr>\n",
       "    <tr>\n",
       "      <th>550065</th>\n",
       "      <td>1006036</td>\n",
       "      <td>P00375436</td>\n",
       "      <td>0</td>\n",
       "      <td>26-35</td>\n",
       "      <td>15</td>\n",
       "      <td>B</td>\n",
       "      <td>4+</td>\n",
       "      <td>1</td>\n",
       "      <td>20</td>\n",
       "      <td>NaN</td>\n",
       "      <td>NaN</td>\n",
       "      <td>137</td>\n",
       "    </tr>\n",
       "    <tr>\n",
       "      <th>550066</th>\n",
       "      <td>1006038</td>\n",
       "      <td>P00375436</td>\n",
       "      <td>0</td>\n",
       "      <td>55+</td>\n",
       "      <td>1</td>\n",
       "      <td>C</td>\n",
       "      <td>2</td>\n",
       "      <td>0</td>\n",
       "      <td>20</td>\n",
       "      <td>NaN</td>\n",
       "      <td>NaN</td>\n",
       "      <td>365</td>\n",
       "    </tr>\n",
       "    <tr>\n",
       "      <th>550067</th>\n",
       "      <td>1006039</td>\n",
       "      <td>P00371644</td>\n",
       "      <td>0</td>\n",
       "      <td>46-50</td>\n",
       "      <td>0</td>\n",
       "      <td>B</td>\n",
       "      <td>4+</td>\n",
       "      <td>1</td>\n",
       "      <td>20</td>\n",
       "      <td>NaN</td>\n",
       "      <td>NaN</td>\n",
       "      <td>490</td>\n",
       "    </tr>\n",
       "  </tbody>\n",
       "</table>\n",
       "<p>550068 rows × 12 columns</p>\n",
       "</div>"
      ],
      "text/plain": [
       "        User_ID Product_ID  Gender    Age  Occupation City_Category  \\\n",
       "0       1000001  P00069042       0   0-17          10             A   \n",
       "1       1000001  P00248942       0   0-17          10             A   \n",
       "2       1000001  P00087842       0   0-17          10             A   \n",
       "3       1000001  P00085442       0   0-17          10             A   \n",
       "4       1000002  P00285442       1    55+          16             C   \n",
       "...         ...        ...     ...    ...         ...           ...   \n",
       "550063  1006033  P00372445       1  51-55          13             B   \n",
       "550064  1006035  P00375436       0  26-35           1             C   \n",
       "550065  1006036  P00375436       0  26-35          15             B   \n",
       "550066  1006038  P00375436       0    55+           1             C   \n",
       "550067  1006039  P00371644       0  46-50           0             B   \n",
       "\n",
       "       Stay_In_Current_City_Years  Marital_Status  Product_Category_1  \\\n",
       "0                               2               0                   3   \n",
       "1                               2               0                   1   \n",
       "2                               2               0                  12   \n",
       "3                               2               0                  12   \n",
       "4                              4+               0                   8   \n",
       "...                           ...             ...                 ...   \n",
       "550063                          1               1                  20   \n",
       "550064                          3               0                  20   \n",
       "550065                         4+               1                  20   \n",
       "550066                          2               0                  20   \n",
       "550067                         4+               1                  20   \n",
       "\n",
       "        Product_Category_2  Product_Category_3  Purchase  \n",
       "0                      NaN                 NaN      8370  \n",
       "1                      6.0                14.0     15200  \n",
       "2                      NaN                 NaN      1422  \n",
       "3                     14.0                 NaN      1057  \n",
       "4                      NaN                 NaN      7969  \n",
       "...                    ...                 ...       ...  \n",
       "550063                 NaN                 NaN       368  \n",
       "550064                 NaN                 NaN       371  \n",
       "550065                 NaN                 NaN       137  \n",
       "550066                 NaN                 NaN       365  \n",
       "550067                 NaN                 NaN       490  \n",
       "\n",
       "[550068 rows x 12 columns]"
      ]
     },
     "execution_count": 13,
     "metadata": {},
     "output_type": "execute_result"
    }
   ],
   "source": [
    "title_mapping = {'F':0,'M':1}\n",
    "df['Gender'] = df['Gender'].map(title_mapping)\n",
    "df"
   ]
  },
  {
   "cell_type": "markdown",
   "id": "74f20572",
   "metadata": {
    "papermill": {
     "duration": 0.020455,
     "end_time": "2024-05-19T09:36:58.704491",
     "exception": false,
     "start_time": "2024-05-19T09:36:58.684036",
     "status": "completed"
    },
    "tags": []
   },
   "source": [
    "### Outliers in Purchase Column"
   ]
  },
  {
   "cell_type": "code",
   "execution_count": 14,
   "id": "997f0e35",
   "metadata": {
    "execution": {
     "iopub.execute_input": "2024-05-19T09:36:58.748845Z",
     "iopub.status.busy": "2024-05-19T09:36:58.747837Z",
     "iopub.status.idle": "2024-05-19T09:36:58.796528Z",
     "shell.execute_reply": "2024-05-19T09:36:58.795199Z"
    },
    "papermill": {
     "duration": 0.073224,
     "end_time": "2024-05-19T09:36:58.799101",
     "exception": false,
     "start_time": "2024-05-19T09:36:58.725877",
     "status": "completed"
    },
    "tags": []
   },
   "outputs": [
    {
     "data": {
      "text/html": [
       "<div>\n",
       "<style scoped>\n",
       "    .dataframe tbody tr th:only-of-type {\n",
       "        vertical-align: middle;\n",
       "    }\n",
       "\n",
       "    .dataframe tbody tr th {\n",
       "        vertical-align: top;\n",
       "    }\n",
       "\n",
       "    .dataframe thead th {\n",
       "        text-align: right;\n",
       "    }\n",
       "</style>\n",
       "<table border=\"1\" class=\"dataframe\">\n",
       "  <thead>\n",
       "    <tr style=\"text-align: right;\">\n",
       "      <th></th>\n",
       "      <th>User_ID</th>\n",
       "      <th>Product_ID</th>\n",
       "      <th>Gender</th>\n",
       "      <th>Age</th>\n",
       "      <th>Occupation</th>\n",
       "      <th>City_Category</th>\n",
       "      <th>Stay_In_Current_City_Years</th>\n",
       "      <th>Marital_Status</th>\n",
       "      <th>Product_Category_1</th>\n",
       "      <th>Product_Category_2</th>\n",
       "      <th>Product_Category_3</th>\n",
       "      <th>Purchase</th>\n",
       "    </tr>\n",
       "  </thead>\n",
       "  <tbody>\n",
       "    <tr>\n",
       "      <th>343</th>\n",
       "      <td>1000058</td>\n",
       "      <td>P00117642</td>\n",
       "      <td>1</td>\n",
       "      <td>26-35</td>\n",
       "      <td>2</td>\n",
       "      <td>B</td>\n",
       "      <td>3</td>\n",
       "      <td>0</td>\n",
       "      <td>10</td>\n",
       "      <td>16.0</td>\n",
       "      <td>NaN</td>\n",
       "      <td>23603</td>\n",
       "    </tr>\n",
       "    <tr>\n",
       "      <th>375</th>\n",
       "      <td>1000062</td>\n",
       "      <td>P00119342</td>\n",
       "      <td>0</td>\n",
       "      <td>36-45</td>\n",
       "      <td>3</td>\n",
       "      <td>A</td>\n",
       "      <td>1</td>\n",
       "      <td>0</td>\n",
       "      <td>10</td>\n",
       "      <td>13.0</td>\n",
       "      <td>NaN</td>\n",
       "      <td>23792</td>\n",
       "    </tr>\n",
       "    <tr>\n",
       "      <th>652</th>\n",
       "      <td>1000126</td>\n",
       "      <td>P00087042</td>\n",
       "      <td>1</td>\n",
       "      <td>18-25</td>\n",
       "      <td>9</td>\n",
       "      <td>B</td>\n",
       "      <td>1</td>\n",
       "      <td>0</td>\n",
       "      <td>10</td>\n",
       "      <td>14.0</td>\n",
       "      <td>16.0</td>\n",
       "      <td>23233</td>\n",
       "    </tr>\n",
       "    <tr>\n",
       "      <th>736</th>\n",
       "      <td>1000139</td>\n",
       "      <td>P00159542</td>\n",
       "      <td>0</td>\n",
       "      <td>26-35</td>\n",
       "      <td>20</td>\n",
       "      <td>C</td>\n",
       "      <td>2</td>\n",
       "      <td>0</td>\n",
       "      <td>10</td>\n",
       "      <td>15.0</td>\n",
       "      <td>16.0</td>\n",
       "      <td>23595</td>\n",
       "    </tr>\n",
       "    <tr>\n",
       "      <th>1041</th>\n",
       "      <td>1000175</td>\n",
       "      <td>P00052842</td>\n",
       "      <td>0</td>\n",
       "      <td>26-35</td>\n",
       "      <td>2</td>\n",
       "      <td>B</td>\n",
       "      <td>1</td>\n",
       "      <td>0</td>\n",
       "      <td>10</td>\n",
       "      <td>15.0</td>\n",
       "      <td>NaN</td>\n",
       "      <td>23341</td>\n",
       "    </tr>\n",
       "    <tr>\n",
       "      <th>...</th>\n",
       "      <td>...</td>\n",
       "      <td>...</td>\n",
       "      <td>...</td>\n",
       "      <td>...</td>\n",
       "      <td>...</td>\n",
       "      <td>...</td>\n",
       "      <td>...</td>\n",
       "      <td>...</td>\n",
       "      <td>...</td>\n",
       "      <td>...</td>\n",
       "      <td>...</td>\n",
       "      <td>...</td>\n",
       "    </tr>\n",
       "    <tr>\n",
       "      <th>544488</th>\n",
       "      <td>1005815</td>\n",
       "      <td>P00116142</td>\n",
       "      <td>1</td>\n",
       "      <td>26-35</td>\n",
       "      <td>20</td>\n",
       "      <td>B</td>\n",
       "      <td>1</td>\n",
       "      <td>0</td>\n",
       "      <td>10</td>\n",
       "      <td>13.0</td>\n",
       "      <td>16.0</td>\n",
       "      <td>23753</td>\n",
       "    </tr>\n",
       "    <tr>\n",
       "      <th>544704</th>\n",
       "      <td>1005847</td>\n",
       "      <td>P00085342</td>\n",
       "      <td>0</td>\n",
       "      <td>18-25</td>\n",
       "      <td>4</td>\n",
       "      <td>B</td>\n",
       "      <td>2</td>\n",
       "      <td>0</td>\n",
       "      <td>10</td>\n",
       "      <td>13.0</td>\n",
       "      <td>NaN</td>\n",
       "      <td>23724</td>\n",
       "    </tr>\n",
       "    <tr>\n",
       "      <th>544743</th>\n",
       "      <td>1005852</td>\n",
       "      <td>P00202242</td>\n",
       "      <td>0</td>\n",
       "      <td>26-35</td>\n",
       "      <td>1</td>\n",
       "      <td>A</td>\n",
       "      <td>0</td>\n",
       "      <td>1</td>\n",
       "      <td>10</td>\n",
       "      <td>16.0</td>\n",
       "      <td>NaN</td>\n",
       "      <td>23529</td>\n",
       "    </tr>\n",
       "    <tr>\n",
       "      <th>545663</th>\n",
       "      <td>1006002</td>\n",
       "      <td>P00116142</td>\n",
       "      <td>1</td>\n",
       "      <td>51-55</td>\n",
       "      <td>0</td>\n",
       "      <td>C</td>\n",
       "      <td>1</td>\n",
       "      <td>1</td>\n",
       "      <td>10</td>\n",
       "      <td>13.0</td>\n",
       "      <td>16.0</td>\n",
       "      <td>23663</td>\n",
       "    </tr>\n",
       "    <tr>\n",
       "      <th>545787</th>\n",
       "      <td>1006018</td>\n",
       "      <td>P00052842</td>\n",
       "      <td>1</td>\n",
       "      <td>36-45</td>\n",
       "      <td>1</td>\n",
       "      <td>C</td>\n",
       "      <td>3</td>\n",
       "      <td>0</td>\n",
       "      <td>10</td>\n",
       "      <td>15.0</td>\n",
       "      <td>NaN</td>\n",
       "      <td>23496</td>\n",
       "    </tr>\n",
       "  </tbody>\n",
       "</table>\n",
       "<p>2677 rows × 12 columns</p>\n",
       "</div>"
      ],
      "text/plain": [
       "        User_ID Product_ID  Gender    Age  Occupation City_Category  \\\n",
       "343     1000058  P00117642       1  26-35           2             B   \n",
       "375     1000062  P00119342       0  36-45           3             A   \n",
       "652     1000126  P00087042       1  18-25           9             B   \n",
       "736     1000139  P00159542       0  26-35          20             C   \n",
       "1041    1000175  P00052842       0  26-35           2             B   \n",
       "...         ...        ...     ...    ...         ...           ...   \n",
       "544488  1005815  P00116142       1  26-35          20             B   \n",
       "544704  1005847  P00085342       0  18-25           4             B   \n",
       "544743  1005852  P00202242       0  26-35           1             A   \n",
       "545663  1006002  P00116142       1  51-55           0             C   \n",
       "545787  1006018  P00052842       1  36-45           1             C   \n",
       "\n",
       "       Stay_In_Current_City_Years  Marital_Status  Product_Category_1  \\\n",
       "343                             3               0                  10   \n",
       "375                             1               0                  10   \n",
       "652                             1               0                  10   \n",
       "736                             2               0                  10   \n",
       "1041                            1               0                  10   \n",
       "...                           ...             ...                 ...   \n",
       "544488                          1               0                  10   \n",
       "544704                          2               0                  10   \n",
       "544743                          0               1                  10   \n",
       "545663                          1               1                  10   \n",
       "545787                          3               0                  10   \n",
       "\n",
       "        Product_Category_2  Product_Category_3  Purchase  \n",
       "343                   16.0                 NaN     23603  \n",
       "375                   13.0                 NaN     23792  \n",
       "652                   14.0                16.0     23233  \n",
       "736                   15.0                16.0     23595  \n",
       "1041                  15.0                 NaN     23341  \n",
       "...                    ...                 ...       ...  \n",
       "544488                13.0                16.0     23753  \n",
       "544704                13.0                 NaN     23724  \n",
       "544743                16.0                 NaN     23529  \n",
       "545663                13.0                16.0     23663  \n",
       "545787                15.0                 NaN     23496  \n",
       "\n",
       "[2677 rows x 12 columns]"
      ]
     },
     "execution_count": 14,
     "metadata": {},
     "output_type": "execute_result"
    }
   ],
   "source": [
    "Q1 = df['Purchase'].quantile(0.25)\n",
    "Q3 = df['Purchase'].quantile(0.75)\n",
    "IQR = Q3 - Q1\n",
    "threshold = 1.5\n",
    "outliers = df[(df['Purchase'] < Q1 - threshold * IQR) | (df['Purchase'] > Q3 + threshold * IQR)]\n",
    "outliers"
   ]
  },
  {
   "cell_type": "code",
   "execution_count": 15,
   "id": "6f21cb8c",
   "metadata": {
    "execution": {
     "iopub.execute_input": "2024-05-19T09:36:58.844321Z",
     "iopub.status.busy": "2024-05-19T09:36:58.843913Z",
     "iopub.status.idle": "2024-05-19T09:37:00.519256Z",
     "shell.execute_reply": "2024-05-19T09:37:00.518050Z"
    },
    "papermill": {
     "duration": 1.701805,
     "end_time": "2024-05-19T09:37:00.521904",
     "exception": false,
     "start_time": "2024-05-19T09:36:58.820099",
     "status": "completed"
    },
    "tags": []
   },
   "outputs": [
    {
     "data": {
      "text/plain": [
       "(array([0, 1, 2, 3, 4, 5, 6, 7]),\n",
       " [Text(0, 0, 'User_ID'),\n",
       "  Text(1, 0, 'Gender'),\n",
       "  Text(2, 0, 'Occupation'),\n",
       "  Text(3, 0, 'Marital_Status'),\n",
       "  Text(4, 0, 'Product_Category_1'),\n",
       "  Text(5, 0, 'Product_Category_2'),\n",
       "  Text(6, 0, 'Product_Category_3'),\n",
       "  Text(7, 0, 'Purchase')])"
      ]
     },
     "execution_count": 15,
     "metadata": {},
     "output_type": "execute_result"
    },
    {
     "data": {
      "image/png": "[encoded data removed]",
      "text/plain": [
       "<Figure size 640x480 with 1 Axes>"
      ]
     },
     "metadata": {},
     "output_type": "display_data"
    }
   ],
   "source": [
    "sns.boxplot(data = df)\n",
    "plt.xticks(rotation='vertical')"
   ]
  },
  {
   "cell_type": "markdown",
   "id": "924d9ff5",
   "metadata": {
    "papermill": {
     "duration": 0.02216,
     "end_time": "2024-05-19T09:37:00.566236",
     "exception": false,
     "start_time": "2024-05-19T09:37:00.544076",
     "status": "completed"
    },
    "tags": []
   },
   "source": [
    "It seems that purchase columns have recognisable outliers"
   ]
  },
  {
   "cell_type": "markdown",
   "id": "0d60b4c4",
   "metadata": {
    "papermill": {
     "duration": 0.022278,
     "end_time": "2024-05-19T09:37:00.610306",
     "exception": false,
     "start_time": "2024-05-19T09:37:00.588028",
     "status": "completed"
    },
    "tags": []
   },
   "source": [
    "# Dropping Unnecessary Columns"
   ]
  },
  {
   "cell_type": "code",
   "execution_count": 16,
   "id": "a8974789",
   "metadata": {
    "execution": {
     "iopub.execute_input": "2024-05-19T09:37:00.658009Z",
     "iopub.status.busy": "2024-05-19T09:37:00.657616Z",
     "iopub.status.idle": "2024-05-19T09:37:00.690020Z",
     "shell.execute_reply": "2024-05-19T09:37:00.688877Z"
    },
    "papermill": {
     "duration": 0.060735,
     "end_time": "2024-05-19T09:37:00.692976",
     "exception": false,
     "start_time": "2024-05-19T09:37:00.632241",
     "status": "completed"
    },
    "tags": []
   },
   "outputs": [],
   "source": [
    "df.drop(['User_ID','Product_ID','Stay_In_Current_City_Years'], axis=1, inplace=True)"
   ]
  },
  {
   "cell_type": "code",
   "execution_count": 17,
   "id": "7c68f6b6",
   "metadata": {
    "execution": {
     "iopub.execute_input": "2024-05-19T09:37:00.738462Z",
     "iopub.status.busy": "2024-05-19T09:37:00.737945Z",
     "iopub.status.idle": "2024-05-19T09:37:00.746552Z",
     "shell.execute_reply": "2024-05-19T09:37:00.745279Z"
    },
    "papermill": {
     "duration": 0.03398,
     "end_time": "2024-05-19T09:37:00.748917",
     "exception": false,
     "start_time": "2024-05-19T09:37:00.714937",
     "status": "completed"
    },
    "tags": []
   },
   "outputs": [
    {
     "data": {
      "text/plain": [
       "Index(['gender', 'age', 'occupation', 'city_category', 'marital_status',\n",
       "       'product_category_1', 'product_category_2', 'product_category_3',\n",
       "       'purchase'],\n",
       "      dtype='object')"
      ]
     },
     "execution_count": 17,
     "metadata": {},
     "output_type": "execute_result"
    }
   ],
   "source": [
    "df.columns.str.lower()"
   ]
  },
  {
   "cell_type": "markdown",
   "id": "ecc08b96",
   "metadata": {
    "papermill": {
     "duration": 0.021707,
     "end_time": "2024-05-19T09:37:00.792556",
     "exception": false,
     "start_time": "2024-05-19T09:37:00.770849",
     "status": "completed"
    },
    "tags": []
   },
   "source": [
    "# Filling N/A Values"
   ]
  },
  {
   "cell_type": "code",
   "execution_count": 18,
   "id": "419d89b7",
   "metadata": {
    "execution": {
     "iopub.execute_input": "2024-05-19T09:37:00.838714Z",
     "iopub.status.busy": "2024-05-19T09:37:00.838280Z",
     "iopub.status.idle": "2024-05-19T09:37:00.926480Z",
     "shell.execute_reply": "2024-05-19T09:37:00.925345Z"
    },
    "papermill": {
     "duration": 0.11453,
     "end_time": "2024-05-19T09:37:00.928975",
     "exception": false,
     "start_time": "2024-05-19T09:37:00.814445",
     "status": "completed"
    },
    "tags": []
   },
   "outputs": [
    {
     "data": {
      "text/plain": [
       "{'0-17': 4.0,\n",
       " '18-25': 8.0,\n",
       " '26-35': 8.0,\n",
       " '36-45': 8.0,\n",
       " '46-50': 8.0,\n",
       " '51-55': 8.0,\n",
       " '55+': 8.0}"
      ]
     },
     "execution_count": 18,
     "metadata": {},
     "output_type": "execute_result"
    }
   ],
   "source": [
    "a = df.loc[df['Product_Category_2'].notna(), ['Age', 'Product_Category_2']].groupby('Age').agg({'Product_Category_2': pd.Series.mode})\n",
    "d = a.to_dict()['Product_Category_2']\n",
    "d"
   ]
  },
  {
   "cell_type": "code",
   "execution_count": 19,
   "id": "bb6b8cdb",
   "metadata": {
    "execution": {
     "iopub.execute_input": "2024-05-19T09:37:00.977284Z",
     "iopub.status.busy": "2024-05-19T09:37:00.976867Z",
     "iopub.status.idle": "2024-05-19T09:37:01.740813Z",
     "shell.execute_reply": "2024-05-19T09:37:01.739593Z"
    },
    "papermill": {
     "duration": 0.791695,
     "end_time": "2024-05-19T09:37:01.743750",
     "exception": false,
     "start_time": "2024-05-19T09:37:00.952055",
     "status": "completed"
    },
    "tags": []
   },
   "outputs": [],
   "source": [
    "i='0-17'\n",
    "for i in d:\n",
    "    df.loc[ (df['Age']==i)&(df['Product_Category_2'].isna()), 'Product_Category_2']=d[i]"
   ]
  },
  {
   "cell_type": "code",
   "execution_count": 20,
   "id": "e9f0dbcd",
   "metadata": {
    "execution": {
     "iopub.execute_input": "2024-05-19T09:37:01.790923Z",
     "iopub.status.busy": "2024-05-19T09:37:01.790498Z",
     "iopub.status.idle": "2024-05-19T09:37:01.800414Z",
     "shell.execute_reply": "2024-05-19T09:37:01.799333Z"
    },
    "papermill": {
     "duration": 0.036549,
     "end_time": "2024-05-19T09:37:01.803000",
     "exception": false,
     "start_time": "2024-05-19T09:37:01.766451",
     "status": "completed"
    },
    "tags": []
   },
   "outputs": [
    {
     "data": {
      "text/plain": [
       "0          4.0\n",
       "1          6.0\n",
       "2          4.0\n",
       "3         14.0\n",
       "4          8.0\n",
       "          ... \n",
       "550063     8.0\n",
       "550064     8.0\n",
       "550065     8.0\n",
       "550066     8.0\n",
       "550067     8.0\n",
       "Name: Product_Category_2, Length: 550068, dtype: float64"
      ]
     },
     "execution_count": 20,
     "metadata": {},
     "output_type": "execute_result"
    }
   ],
   "source": [
    "df['Product_Category_2']"
   ]
  },
  {
   "cell_type": "code",
   "execution_count": 21,
   "id": "4e52a701",
   "metadata": {
    "execution": {
     "iopub.execute_input": "2024-05-19T09:37:01.849213Z",
     "iopub.status.busy": "2024-05-19T09:37:01.848814Z",
     "iopub.status.idle": "2024-05-19T09:37:01.903574Z",
     "shell.execute_reply": "2024-05-19T09:37:01.902243Z"
    },
    "papermill": {
     "duration": 0.080823,
     "end_time": "2024-05-19T09:37:01.905974",
     "exception": false,
     "start_time": "2024-05-19T09:37:01.825151",
     "status": "completed"
    },
    "tags": []
   },
   "outputs": [
    {
     "data": {
      "text/html": [
       "<div>\n",
       "<style scoped>\n",
       "    .dataframe tbody tr th:only-of-type {\n",
       "        vertical-align: middle;\n",
       "    }\n",
       "\n",
       "    .dataframe tbody tr th {\n",
       "        vertical-align: top;\n",
       "    }\n",
       "\n",
       "    .dataframe thead th {\n",
       "        text-align: right;\n",
       "    }\n",
       "</style>\n",
       "<table border=\"1\" class=\"dataframe\">\n",
       "  <thead>\n",
       "    <tr style=\"text-align: right;\">\n",
       "      <th></th>\n",
       "      <th>Product_Category_3</th>\n",
       "    </tr>\n",
       "    <tr>\n",
       "      <th>Age</th>\n",
       "      <th></th>\n",
       "    </tr>\n",
       "  </thead>\n",
       "  <tbody>\n",
       "    <tr>\n",
       "      <th>0-17</th>\n",
       "      <td>16.0</td>\n",
       "    </tr>\n",
       "    <tr>\n",
       "      <th>18-25</th>\n",
       "      <td>16.0</td>\n",
       "    </tr>\n",
       "    <tr>\n",
       "      <th>26-35</th>\n",
       "      <td>16.0</td>\n",
       "    </tr>\n",
       "    <tr>\n",
       "      <th>36-45</th>\n",
       "      <td>16.0</td>\n",
       "    </tr>\n",
       "    <tr>\n",
       "      <th>46-50</th>\n",
       "      <td>16.0</td>\n",
       "    </tr>\n",
       "    <tr>\n",
       "      <th>51-55</th>\n",
       "      <td>16.0</td>\n",
       "    </tr>\n",
       "    <tr>\n",
       "      <th>55+</th>\n",
       "      <td>16.0</td>\n",
       "    </tr>\n",
       "  </tbody>\n",
       "</table>\n",
       "</div>"
      ],
      "text/plain": [
       "       Product_Category_3\n",
       "Age                      \n",
       "0-17                 16.0\n",
       "18-25                16.0\n",
       "26-35                16.0\n",
       "36-45                16.0\n",
       "46-50                16.0\n",
       "51-55                16.0\n",
       "55+                  16.0"
      ]
     },
     "execution_count": 21,
     "metadata": {},
     "output_type": "execute_result"
    }
   ],
   "source": [
    "b = df.loc[df['Product_Category_3'].notna(),['Age','Product_Category_3']].groupby('Age').agg({'Product_Category_3':pd.Series.mode})\n",
    "b"
   ]
  },
  {
   "cell_type": "code",
   "execution_count": 22,
   "id": "33ab43af",
   "metadata": {
    "execution": {
     "iopub.execute_input": "2024-05-19T09:37:01.953500Z",
     "iopub.status.busy": "2024-05-19T09:37:01.952990Z",
     "iopub.status.idle": "2024-05-19T09:37:01.968076Z",
     "shell.execute_reply": "2024-05-19T09:37:01.966865Z"
    },
    "papermill": {
     "duration": 0.042106,
     "end_time": "2024-05-19T09:37:01.970820",
     "exception": false,
     "start_time": "2024-05-19T09:37:01.928714",
     "status": "completed"
    },
    "tags": []
   },
   "outputs": [
    {
     "data": {
      "text/plain": [
       "0         16.0\n",
       "1         14.0\n",
       "2         16.0\n",
       "3         16.0\n",
       "4         16.0\n",
       "          ... \n",
       "550063    16.0\n",
       "550064    16.0\n",
       "550065    16.0\n",
       "550066    16.0\n",
       "550067    16.0\n",
       "Name: Product_Category_3, Length: 550068, dtype: float64"
      ]
     },
     "execution_count": 22,
     "metadata": {},
     "output_type": "execute_result"
    }
   ],
   "source": [
    "df['Product_Category_3'].fillna(16)"
   ]
  },
  {
   "cell_type": "markdown",
   "id": "6da70caf",
   "metadata": {
    "papermill": {
     "duration": 0.022611,
     "end_time": "2024-05-19T09:37:02.016691",
     "exception": false,
     "start_time": "2024-05-19T09:37:01.994080",
     "status": "completed"
    },
    "tags": []
   },
   "source": [
    "Renaming Columns"
   ]
  },
  {
   "cell_type": "code",
   "execution_count": 23,
   "id": "96ff7774",
   "metadata": {
    "execution": {
     "iopub.execute_input": "2024-05-19T09:37:02.064004Z",
     "iopub.status.busy": "2024-05-19T09:37:02.063597Z",
     "iopub.status.idle": "2024-05-19T09:37:02.070899Z",
     "shell.execute_reply": "2024-05-19T09:37:02.069671Z"
    },
    "papermill": {
     "duration": 0.033711,
     "end_time": "2024-05-19T09:37:02.073358",
     "exception": false,
     "start_time": "2024-05-19T09:37:02.039647",
     "status": "completed"
    },
    "tags": []
   },
   "outputs": [],
   "source": [
    "df.rename(columns={'Gender': 'gender', 'Age': 'age','Occupation':'occupation','City_Category':'city_category','Marital_Status':'marital_status','Product_Category_1':'product_category_1','Product_Category_2':'product_category_2','Product_Category_3':'product_category_3','Purchase':'purchase'},inplace=True)"
   ]
  },
  {
   "cell_type": "code",
   "execution_count": 24,
   "id": "85c74b1c",
   "metadata": {
    "execution": {
     "iopub.execute_input": "2024-05-19T09:37:02.120597Z",
     "iopub.status.busy": "2024-05-19T09:37:02.120172Z",
     "iopub.status.idle": "2024-05-19T09:37:02.140426Z",
     "shell.execute_reply": "2024-05-19T09:37:02.139266Z"
    },
    "papermill": {
     "duration": 0.046927,
     "end_time": "2024-05-19T09:37:02.143094",
     "exception": false,
     "start_time": "2024-05-19T09:37:02.096167",
     "status": "completed"
    },
    "tags": []
   },
   "outputs": [
    {
     "data": {
      "text/html": [
       "<div>\n",
       "<style scoped>\n",
       "    .dataframe tbody tr th:only-of-type {\n",
       "        vertical-align: middle;\n",
       "    }\n",
       "\n",
       "    .dataframe tbody tr th {\n",
       "        vertical-align: top;\n",
       "    }\n",
       "\n",
       "    .dataframe thead th {\n",
       "        text-align: right;\n",
       "    }\n",
       "</style>\n",
       "<table border=\"1\" class=\"dataframe\">\n",
       "  <thead>\n",
       "    <tr style=\"text-align: right;\">\n",
       "      <th></th>\n",
       "      <th>gender</th>\n",
       "      <th>age</th>\n",
       "      <th>occupation</th>\n",
       "      <th>city_category</th>\n",
       "      <th>marital_status</th>\n",
       "      <th>product_category_1</th>\n",
       "      <th>product_category_2</th>\n",
       "      <th>product_category_3</th>\n",
       "      <th>purchase</th>\n",
       "    </tr>\n",
       "  </thead>\n",
       "  <tbody>\n",
       "    <tr>\n",
       "      <th>0</th>\n",
       "      <td>0</td>\n",
       "      <td>0-17</td>\n",
       "      <td>10</td>\n",
       "      <td>A</td>\n",
       "      <td>0</td>\n",
       "      <td>3</td>\n",
       "      <td>4.0</td>\n",
       "      <td>NaN</td>\n",
       "      <td>8370</td>\n",
       "    </tr>\n",
       "    <tr>\n",
       "      <th>1</th>\n",
       "      <td>0</td>\n",
       "      <td>0-17</td>\n",
       "      <td>10</td>\n",
       "      <td>A</td>\n",
       "      <td>0</td>\n",
       "      <td>1</td>\n",
       "      <td>6.0</td>\n",
       "      <td>14.0</td>\n",
       "      <td>15200</td>\n",
       "    </tr>\n",
       "    <tr>\n",
       "      <th>2</th>\n",
       "      <td>0</td>\n",
       "      <td>0-17</td>\n",
       "      <td>10</td>\n",
       "      <td>A</td>\n",
       "      <td>0</td>\n",
       "      <td>12</td>\n",
       "      <td>4.0</td>\n",
       "      <td>NaN</td>\n",
       "      <td>1422</td>\n",
       "    </tr>\n",
       "    <tr>\n",
       "      <th>3</th>\n",
       "      <td>0</td>\n",
       "      <td>0-17</td>\n",
       "      <td>10</td>\n",
       "      <td>A</td>\n",
       "      <td>0</td>\n",
       "      <td>12</td>\n",
       "      <td>14.0</td>\n",
       "      <td>NaN</td>\n",
       "      <td>1057</td>\n",
       "    </tr>\n",
       "    <tr>\n",
       "      <th>4</th>\n",
       "      <td>1</td>\n",
       "      <td>55+</td>\n",
       "      <td>16</td>\n",
       "      <td>C</td>\n",
       "      <td>0</td>\n",
       "      <td>8</td>\n",
       "      <td>8.0</td>\n",
       "      <td>NaN</td>\n",
       "      <td>7969</td>\n",
       "    </tr>\n",
       "    <tr>\n",
       "      <th>...</th>\n",
       "      <td>...</td>\n",
       "      <td>...</td>\n",
       "      <td>...</td>\n",
       "      <td>...</td>\n",
       "      <td>...</td>\n",
       "      <td>...</td>\n",
       "      <td>...</td>\n",
       "      <td>...</td>\n",
       "      <td>...</td>\n",
       "    </tr>\n",
       "    <tr>\n",
       "      <th>550063</th>\n",
       "      <td>1</td>\n",
       "      <td>51-55</td>\n",
       "      <td>13</td>\n",
       "      <td>B</td>\n",
       "      <td>1</td>\n",
       "      <td>20</td>\n",
       "      <td>8.0</td>\n",
       "      <td>NaN</td>\n",
       "      <td>368</td>\n",
       "    </tr>\n",
       "    <tr>\n",
       "      <th>550064</th>\n",
       "      <td>0</td>\n",
       "      <td>26-35</td>\n",
       "      <td>1</td>\n",
       "      <td>C</td>\n",
       "      <td>0</td>\n",
       "      <td>20</td>\n",
       "      <td>8.0</td>\n",
       "      <td>NaN</td>\n",
       "      <td>371</td>\n",
       "    </tr>\n",
       "    <tr>\n",
       "      <th>550065</th>\n",
       "      <td>0</td>\n",
       "      <td>26-35</td>\n",
       "      <td>15</td>\n",
       "      <td>B</td>\n",
       "      <td>1</td>\n",
       "      <td>20</td>\n",
       "      <td>8.0</td>\n",
       "      <td>NaN</td>\n",
       "      <td>137</td>\n",
       "    </tr>\n",
       "    <tr>\n",
       "      <th>550066</th>\n",
       "      <td>0</td>\n",
       "      <td>55+</td>\n",
       "      <td>1</td>\n",
       "      <td>C</td>\n",
       "      <td>0</td>\n",
       "      <td>20</td>\n",
       "      <td>8.0</td>\n",
       "      <td>NaN</td>\n",
       "      <td>365</td>\n",
       "    </tr>\n",
       "    <tr>\n",
       "      <th>550067</th>\n",
       "      <td>0</td>\n",
       "      <td>46-50</td>\n",
       "      <td>0</td>\n",
       "      <td>B</td>\n",
       "      <td>1</td>\n",
       "      <td>20</td>\n",
       "      <td>8.0</td>\n",
       "      <td>NaN</td>\n",
       "      <td>490</td>\n",
       "    </tr>\n",
       "  </tbody>\n",
       "</table>\n",
       "<p>550068 rows × 9 columns</p>\n",
       "</div>"
      ],
      "text/plain": [
       "        gender    age  occupation city_category  marital_status  \\\n",
       "0            0   0-17          10             A               0   \n",
       "1            0   0-17          10             A               0   \n",
       "2            0   0-17          10             A               0   \n",
       "3            0   0-17          10             A               0   \n",
       "4            1    55+          16             C               0   \n",
       "...        ...    ...         ...           ...             ...   \n",
       "550063       1  51-55          13             B               1   \n",
       "550064       0  26-35           1             C               0   \n",
       "550065       0  26-35          15             B               1   \n",
       "550066       0    55+           1             C               0   \n",
       "550067       0  46-50           0             B               1   \n",
       "\n",
       "        product_category_1  product_category_2  product_category_3  purchase  \n",
       "0                        3                 4.0                 NaN      8370  \n",
       "1                        1                 6.0                14.0     15200  \n",
       "2                       12                 4.0                 NaN      1422  \n",
       "3                       12                14.0                 NaN      1057  \n",
       "4                        8                 8.0                 NaN      7969  \n",
       "...                    ...                 ...                 ...       ...  \n",
       "550063                  20                 8.0                 NaN       368  \n",
       "550064                  20                 8.0                 NaN       371  \n",
       "550065                  20                 8.0                 NaN       137  \n",
       "550066                  20                 8.0                 NaN       365  \n",
       "550067                  20                 8.0                 NaN       490  \n",
       "\n",
       "[550068 rows x 9 columns]"
      ]
     },
     "execution_count": 24,
     "metadata": {},
     "output_type": "execute_result"
    }
   ],
   "source": [
    "df"
   ]
  },
  {
   "cell_type": "code",
   "execution_count": 25,
   "id": "10737e56",
   "metadata": {
    "execution": {
     "iopub.execute_input": "2024-05-19T09:37:02.192032Z",
     "iopub.status.busy": "2024-05-19T09:37:02.191636Z",
     "iopub.status.idle": "2024-05-19T09:37:02.204528Z",
     "shell.execute_reply": "2024-05-19T09:37:02.203329Z"
    },
    "papermill": {
     "duration": 0.040316,
     "end_time": "2024-05-19T09:37:02.207456",
     "exception": false,
     "start_time": "2024-05-19T09:37:02.167140",
     "status": "completed"
    },
    "tags": []
   },
   "outputs": [
    {
     "data": {
      "text/plain": [
       "array([ 8370, 15200,  1422, ...,   135,   123,   613])"
      ]
     },
     "execution_count": 25,
     "metadata": {},
     "output_type": "execute_result"
    }
   ],
   "source": [
    "df['purchase'].unique()"
   ]
  },
  {
   "cell_type": "code",
   "execution_count": 26,
   "id": "0ec41d16",
   "metadata": {
    "execution": {
     "iopub.execute_input": "2024-05-19T09:37:02.258833Z",
     "iopub.status.busy": "2024-05-19T09:37:02.258276Z",
     "iopub.status.idle": "2024-05-19T09:37:02.268735Z",
     "shell.execute_reply": "2024-05-19T09:37:02.267283Z"
    },
    "papermill": {
     "duration": 0.039763,
     "end_time": "2024-05-19T09:37:02.271545",
     "exception": false,
     "start_time": "2024-05-19T09:37:02.231782",
     "status": "completed"
    },
    "tags": []
   },
   "outputs": [
    {
     "data": {
      "text/plain": [
       "gender                  int64\n",
       "age                    object\n",
       "occupation              int64\n",
       "city_category          object\n",
       "marital_status          int64\n",
       "product_category_1      int64\n",
       "product_category_2    float64\n",
       "product_category_3    float64\n",
       "purchase                int64\n",
       "dtype: object"
      ]
     },
     "execution_count": 26,
     "metadata": {},
     "output_type": "execute_result"
    }
   ],
   "source": [
    "df.dtypes"
   ]
  },
  {
   "cell_type": "code",
   "execution_count": 27,
   "id": "72ea93ef",
   "metadata": {
    "execution": {
     "iopub.execute_input": "2024-05-19T09:37:02.323161Z",
     "iopub.status.busy": "2024-05-19T09:37:02.322735Z",
     "iopub.status.idle": "2024-05-19T09:37:02.796077Z",
     "shell.execute_reply": "2024-05-19T09:37:02.794548Z"
    },
    "papermill": {
     "duration": 0.50311,
     "end_time": "2024-05-19T09:37:02.799177",
     "exception": false,
     "start_time": "2024-05-19T09:37:02.296067",
     "status": "completed"
    },
    "tags": []
   },
   "outputs": [],
   "source": [
    "def ages(val):\n",
    "    if '0-17'in val:\n",
    "        val = val.replace('0-17','1')\n",
    "        return val\n",
    "    elif '18-25'in val:\n",
    "        val = val.replace('18-25','2')\n",
    "        return val\n",
    "    elif '26-35'in val:\n",
    "        val = val.replace('26-35','3')\n",
    "        return val\n",
    "    elif '36-45'in val:\n",
    "        val = val.replace('36-45','4')\n",
    "        return val\n",
    "    elif '46-50'in val:\n",
    "        val = val.replace('46-50','5')\n",
    "        return val\n",
    "    elif '51-55'in val:\n",
    "        val = val.replace('51-55','6')\n",
    "        return val\n",
    "    elif '55+'in val:\n",
    "        val = val.replace('55+','7')\n",
    "        return val\n",
    "df['age']=df['age'].apply(ages).astype('int')"
   ]
  },
  {
   "cell_type": "code",
   "execution_count": 28,
   "id": "7965134a",
   "metadata": {
    "execution": {
     "iopub.execute_input": "2024-05-19T09:37:02.848773Z",
     "iopub.status.busy": "2024-05-19T09:37:02.848322Z",
     "iopub.status.idle": "2024-05-19T09:37:02.868427Z",
     "shell.execute_reply": "2024-05-19T09:37:02.867005Z"
    },
    "papermill": {
     "duration": 0.048319,
     "end_time": "2024-05-19T09:37:02.871141",
     "exception": false,
     "start_time": "2024-05-19T09:37:02.822822",
     "status": "completed"
    },
    "tags": []
   },
   "outputs": [
    {
     "data": {
      "text/html": [
       "<div>\n",
       "<style scoped>\n",
       "    .dataframe tbody tr th:only-of-type {\n",
       "        vertical-align: middle;\n",
       "    }\n",
       "\n",
       "    .dataframe tbody tr th {\n",
       "        vertical-align: top;\n",
       "    }\n",
       "\n",
       "    .dataframe thead th {\n",
       "        text-align: right;\n",
       "    }\n",
       "</style>\n",
       "<table border=\"1\" class=\"dataframe\">\n",
       "  <thead>\n",
       "    <tr style=\"text-align: right;\">\n",
       "      <th></th>\n",
       "      <th>gender</th>\n",
       "      <th>age</th>\n",
       "      <th>occupation</th>\n",
       "      <th>city_category</th>\n",
       "      <th>marital_status</th>\n",
       "      <th>product_category_1</th>\n",
       "      <th>product_category_2</th>\n",
       "      <th>product_category_3</th>\n",
       "      <th>purchase</th>\n",
       "    </tr>\n",
       "  </thead>\n",
       "  <tbody>\n",
       "    <tr>\n",
       "      <th>0</th>\n",
       "      <td>0</td>\n",
       "      <td>1</td>\n",
       "      <td>10</td>\n",
       "      <td>A</td>\n",
       "      <td>0</td>\n",
       "      <td>3</td>\n",
       "      <td>4.0</td>\n",
       "      <td>NaN</td>\n",
       "      <td>8370</td>\n",
       "    </tr>\n",
       "    <tr>\n",
       "      <th>1</th>\n",
       "      <td>0</td>\n",
       "      <td>1</td>\n",
       "      <td>10</td>\n",
       "      <td>A</td>\n",
       "      <td>0</td>\n",
       "      <td>1</td>\n",
       "      <td>6.0</td>\n",
       "      <td>14.0</td>\n",
       "      <td>15200</td>\n",
       "    </tr>\n",
       "    <tr>\n",
       "      <th>2</th>\n",
       "      <td>0</td>\n",
       "      <td>1</td>\n",
       "      <td>10</td>\n",
       "      <td>A</td>\n",
       "      <td>0</td>\n",
       "      <td>12</td>\n",
       "      <td>4.0</td>\n",
       "      <td>NaN</td>\n",
       "      <td>1422</td>\n",
       "    </tr>\n",
       "    <tr>\n",
       "      <th>3</th>\n",
       "      <td>0</td>\n",
       "      <td>1</td>\n",
       "      <td>10</td>\n",
       "      <td>A</td>\n",
       "      <td>0</td>\n",
       "      <td>12</td>\n",
       "      <td>14.0</td>\n",
       "      <td>NaN</td>\n",
       "      <td>1057</td>\n",
       "    </tr>\n",
       "    <tr>\n",
       "      <th>4</th>\n",
       "      <td>1</td>\n",
       "      <td>7</td>\n",
       "      <td>16</td>\n",
       "      <td>C</td>\n",
       "      <td>0</td>\n",
       "      <td>8</td>\n",
       "      <td>8.0</td>\n",
       "      <td>NaN</td>\n",
       "      <td>7969</td>\n",
       "    </tr>\n",
       "    <tr>\n",
       "      <th>...</th>\n",
       "      <td>...</td>\n",
       "      <td>...</td>\n",
       "      <td>...</td>\n",
       "      <td>...</td>\n",
       "      <td>...</td>\n",
       "      <td>...</td>\n",
       "      <td>...</td>\n",
       "      <td>...</td>\n",
       "      <td>...</td>\n",
       "    </tr>\n",
       "    <tr>\n",
       "      <th>550063</th>\n",
       "      <td>1</td>\n",
       "      <td>6</td>\n",
       "      <td>13</td>\n",
       "      <td>B</td>\n",
       "      <td>1</td>\n",
       "      <td>20</td>\n",
       "      <td>8.0</td>\n",
       "      <td>NaN</td>\n",
       "      <td>368</td>\n",
       "    </tr>\n",
       "    <tr>\n",
       "      <th>550064</th>\n",
       "      <td>0</td>\n",
       "      <td>3</td>\n",
       "      <td>1</td>\n",
       "      <td>C</td>\n",
       "      <td>0</td>\n",
       "      <td>20</td>\n",
       "      <td>8.0</td>\n",
       "      <td>NaN</td>\n",
       "      <td>371</td>\n",
       "    </tr>\n",
       "    <tr>\n",
       "      <th>550065</th>\n",
       "      <td>0</td>\n",
       "      <td>3</td>\n",
       "      <td>15</td>\n",
       "      <td>B</td>\n",
       "      <td>1</td>\n",
       "      <td>20</td>\n",
       "      <td>8.0</td>\n",
       "      <td>NaN</td>\n",
       "      <td>137</td>\n",
       "    </tr>\n",
       "    <tr>\n",
       "      <th>550066</th>\n",
       "      <td>0</td>\n",
       "      <td>7</td>\n",
       "      <td>1</td>\n",
       "      <td>C</td>\n",
       "      <td>0</td>\n",
       "      <td>20</td>\n",
       "      <td>8.0</td>\n",
       "      <td>NaN</td>\n",
       "      <td>365</td>\n",
       "    </tr>\n",
       "    <tr>\n",
       "      <th>550067</th>\n",
       "      <td>0</td>\n",
       "      <td>5</td>\n",
       "      <td>0</td>\n",
       "      <td>B</td>\n",
       "      <td>1</td>\n",
       "      <td>20</td>\n",
       "      <td>8.0</td>\n",
       "      <td>NaN</td>\n",
       "      <td>490</td>\n",
       "    </tr>\n",
       "  </tbody>\n",
       "</table>\n",
       "<p>550068 rows × 9 columns</p>\n",
       "</div>"
      ],
      "text/plain": [
       "        gender  age  occupation city_category  marital_status  \\\n",
       "0            0    1          10             A               0   \n",
       "1            0    1          10             A               0   \n",
       "2            0    1          10             A               0   \n",
       "3            0    1          10             A               0   \n",
       "4            1    7          16             C               0   \n",
       "...        ...  ...         ...           ...             ...   \n",
       "550063       1    6          13             B               1   \n",
       "550064       0    3           1             C               0   \n",
       "550065       0    3          15             B               1   \n",
       "550066       0    7           1             C               0   \n",
       "550067       0    5           0             B               1   \n",
       "\n",
       "        product_category_1  product_category_2  product_category_3  purchase  \n",
       "0                        3                 4.0                 NaN      8370  \n",
       "1                        1                 6.0                14.0     15200  \n",
       "2                       12                 4.0                 NaN      1422  \n",
       "3                       12                14.0                 NaN      1057  \n",
       "4                        8                 8.0                 NaN      7969  \n",
       "...                    ...                 ...                 ...       ...  \n",
       "550063                  20                 8.0                 NaN       368  \n",
       "550064                  20                 8.0                 NaN       371  \n",
       "550065                  20                 8.0                 NaN       137  \n",
       "550066                  20                 8.0                 NaN       365  \n",
       "550067                  20                 8.0                 NaN       490  \n",
       "\n",
       "[550068 rows x 9 columns]"
      ]
     },
     "execution_count": 28,
     "metadata": {},
     "output_type": "execute_result"
    }
   ],
   "source": [
    "df"
   ]
  },
  {
   "cell_type": "markdown",
   "id": "5d77b5d9",
   "metadata": {
    "papermill": {
     "duration": 0.024094,
     "end_time": "2024-05-19T09:37:02.919833",
     "exception": false,
     "start_time": "2024-05-19T09:37:02.895739",
     "status": "completed"
    },
    "tags": []
   },
   "source": [
    "# Data Visualization"
   ]
  },
  {
   "cell_type": "code",
   "execution_count": 29,
   "id": "a63fe541",
   "metadata": {
    "execution": {
     "iopub.execute_input": "2024-05-19T09:37:02.969042Z",
     "iopub.status.busy": "2024-05-19T09:37:02.968622Z",
     "iopub.status.idle": "2024-05-19T09:37:02.976017Z",
     "shell.execute_reply": "2024-05-19T09:37:02.974790Z"
    },
    "papermill": {
     "duration": 0.035498,
     "end_time": "2024-05-19T09:37:02.979041",
     "exception": false,
     "start_time": "2024-05-19T09:37:02.943543",
     "status": "completed"
    },
    "tags": []
   },
   "outputs": [],
   "source": [
    "#Visualizing individual column\n",
    "def stat(value):\n",
    "    plt.subplot(2,2,1)\n",
    "    sns.histplot(data=df,x=val,kde=True,bins=30)\n",
    "    plt.title('Histogram of {}'.format(val))\n",
    "    plt.subplot(2,2,2)\n",
    "    sns.boxplot(data=df,x=val)\n",
    "    plt.title('Boxplot of {}'.format(val))\n",
    "    plt.show()"
   ]
  },
  {
   "cell_type": "code",
   "execution_count": 30,
   "id": "542669dc",
   "metadata": {
    "execution": {
     "iopub.execute_input": "2024-05-19T09:37:03.030396Z",
     "iopub.status.busy": "2024-05-19T09:37:03.029981Z",
     "iopub.status.idle": "2024-05-19T09:37:22.449098Z",
     "shell.execute_reply": "2024-05-19T09:37:22.447507Z"
    },
    "papermill": {
     "duration": 19.448514,
     "end_time": "2024-05-19T09:37:22.452171",
     "exception": false,
     "start_time": "2024-05-19T09:37:03.003657",
     "status": "completed"
    },
    "tags": []
   },
   "outputs": [
    {
     "name": "stderr",
     "output_type": "stream",
     "text": [
      "/opt/conda/lib/python3.10/site-packages/seaborn/_oldcore.py:1119: FutureWarning: use_inf_as_na option is deprecated and will be removed in a future version. Convert inf values to NaN before operating instead.\n",
      "  with pd.option_context('mode.use_inf_as_na', True):\n"
     ]
    },
    {
     "data": {
      "image/png": "[encoded data removed]",
      "text/plain": [
       "<Figure size 640x480 with 2 Axes>"
      ]
     },
     "metadata": {},
     "output_type": "display_data"
    },
    {
     "name": "stderr",
     "output_type": "stream",
     "text": [
      "/opt/conda/lib/python3.10/site-packages/seaborn/_oldcore.py:1119: FutureWarning: use_inf_as_na option is deprecated and will be removed in a future version. Convert inf values to NaN before operating instead.\n",
      "  with pd.option_context('mode.use_inf_as_na', True):\n"
     ]
    },
    {
     "data": {
      "image/png": "[encoded data removed]",
      "text/plain": [
       "<Figure size 640x480 with 2 Axes>"
      ]
     },
     "metadata": {},
     "output_type": "display_data"
    },
    {
     "name": "stderr",
     "output_type": "stream",
     "text": [
      "/opt/conda/lib/python3.10/site-packages/seaborn/_oldcore.py:1119: FutureWarning: use_inf_as_na option is deprecated and will be removed in a future version. Convert inf values to NaN before operating instead.\n",
      "  with pd.option_context('mode.use_inf_as_na', True):\n"
     ]
    },
    {
     "data": {
      "image/png": "[encoded data removed]",
      "text/plain": [
       "<Figure size 640x480 with 2 Axes>"
      ]
     },
     "metadata": {},
     "output_type": "display_data"
    },
    {
     "name": "stderr",
     "output_type": "stream",
     "text": [
      "/opt/conda/lib/python3.10/site-packages/seaborn/_oldcore.py:1119: FutureWarning: use_inf_as_na option is deprecated and will be removed in a future version. Convert inf values to NaN before operating instead.\n",
      "  with pd.option_context('mode.use_inf_as_na', True):\n"
     ]
    },
    {
     "data": {
      "image/png": "[encoded data removed]",
      "text/plain": [
       "<Figure size 640x480 with 2 Axes>"
      ]
     },
     "metadata": {},
     "output_type": "display_data"
    },
    {
     "name": "stderr",
     "output_type": "stream",
     "text": [
      "/opt/conda/lib/python3.10/site-packages/seaborn/_oldcore.py:1119: FutureWarning: use_inf_as_na option is deprecated and will be removed in a future version. Convert inf values to NaN before operating instead.\n",
      "  with pd.option_context('mode.use_inf_as_na', True):\n"
     ]
    },
    {
     "data": {
      "image/png": "[encoded data removed]",
      "text/plain": [
       "<Figure size 640x480 with 2 Axes>"
      ]
     },
     "metadata": {},
     "output_type": "display_data"
    },
    {
     "name": "stderr",
     "output_type": "stream",
     "text": [
      "/opt/conda/lib/python3.10/site-packages/seaborn/_oldcore.py:1119: FutureWarning: use_inf_as_na option is deprecated and will be removed in a future version. Convert inf values to NaN before operating instead.\n",
      "  with pd.option_context('mode.use_inf_as_na', True):\n"
     ]
    },
    {
     "data": {
      "image/png": "[encoded data removed]",
      "text/plain": [
       "<Figure size 640x480 with 2 Axes>"
      ]
     },
     "metadata": {},
     "output_type": "display_data"
    },
    {
     "name": "stderr",
     "output_type": "stream",
     "text": [
      "/opt/conda/lib/python3.10/site-packages/seaborn/_oldcore.py:1119: FutureWarning: use_inf_as_na option is deprecated and will be removed in a future version. Convert inf values to NaN before operating instead.\n",
      "  with pd.option_context('mode.use_inf_as_na', True):\n"
     ]
    },
    {
     "data": {
      "image/png": "[encoded data removed]",
      "text/plain": [
       "<Figure size 640x480 with 2 Axes>"
      ]
     },
     "metadata": {},
     "output_type": "display_data"
    },
    {
     "name": "stderr",
     "output_type": "stream",
     "text": [
      "/opt/conda/lib/python3.10/site-packages/seaborn/_oldcore.py:1119: FutureWarning: use_inf_as_na option is deprecated and will be removed in a future version. Convert inf values to NaN before operating instead.\n",
      "  with pd.option_context('mode.use_inf_as_na', True):\n"
     ]
    },
    {
     "data": {
      "image/png": "[encoded data removed]",
      "text/plain": [
       "<Figure size 640x480 with 2 Axes>"
      ]
     },
     "metadata": {},
     "output_type": "display_data"
    }
   ],
   "source": [
    "for val in df.select_dtypes(exclude=object):\n",
    "    stat(val)"
   ]
  },
  {
   "cell_type": "markdown",
   "id": "3a8558cb",
   "metadata": {
    "papermill": {
     "duration": 0.028756,
     "end_time": "2024-05-19T09:37:22.512240",
     "exception": false,
     "start_time": "2024-05-19T09:37:22.483484",
     "status": "completed"
    },
    "tags": []
   },
   "source": [
    "1. It seems that male purchase count is way more than female.\n",
    "2. People between the age 18-45 has more purchase capacity than any others.\n",
    "3. People who are not married, there purchase is more than people who are married.\n",
    "4. Prodect number 1, 5 and 8 are purchased more in prodect category 1.\n",
    "5. Product number 7 is purchased more in product categoy 2.\n",
    "6. Product number 5 and 13-19 are purchased more in product category 3."
   ]
  },
  {
   "cell_type": "code",
   "execution_count": 31,
   "id": "ef565e15",
   "metadata": {
    "execution": {
     "iopub.execute_input": "2024-05-19T09:37:22.572490Z",
     "iopub.status.busy": "2024-05-19T09:37:22.572055Z",
     "iopub.status.idle": "2024-05-19T09:37:28.068623Z",
     "shell.execute_reply": "2024-05-19T09:37:28.067011Z"
    },
    "papermill": {
     "duration": 5.530193,
     "end_time": "2024-05-19T09:37:28.071751",
     "exception": false,
     "start_time": "2024-05-19T09:37:22.541558",
     "status": "completed"
    },
    "tags": []
   },
   "outputs": [
    {
     "data": {
      "text/plain": [
       "Text(0.5, 1.0, 'Age Vs Purchase')"
      ]
     },
     "execution_count": 31,
     "metadata": {},
     "output_type": "execute_result"
    },
    {
     "data": {
      "image/png": "[encoded data removed]",
      "text/plain": [
       "<Figure size 640x480 with 1 Axes>"
      ]
     },
     "metadata": {},
     "output_type": "display_data"
    }
   ],
   "source": [
    "#Age vs Purchase\n",
    "sns.barplot(x='age', y='purchase', data=df, palette='rainbow')\n",
    "plt.title('Age Vs Purchase')"
   ]
  },
  {
   "cell_type": "markdown",
   "id": "1a58745f",
   "metadata": {
    "papermill": {
     "duration": 0.031382,
     "end_time": "2024-05-19T09:37:28.134513",
     "exception": false,
     "start_time": "2024-05-19T09:37:28.103131",
     "status": "completed"
    },
    "tags": []
   },
   "source": [
    "It seems that people of all ages purchase amount lies between 8000-10000."
   ]
  },
  {
   "cell_type": "code",
   "execution_count": 32,
   "id": "d2c8cfce",
   "metadata": {
    "execution": {
     "iopub.execute_input": "2024-05-19T09:37:28.195980Z",
     "iopub.status.busy": "2024-05-19T09:37:28.195518Z",
     "iopub.status.idle": "2024-05-19T09:37:33.301990Z",
     "shell.execute_reply": "2024-05-19T09:37:33.300818Z"
    },
    "papermill": {
     "duration": 5.140268,
     "end_time": "2024-05-19T09:37:33.304868",
     "exception": false,
     "start_time": "2024-05-19T09:37:28.164600",
     "status": "completed"
    },
    "tags": []
   },
   "outputs": [
    {
     "data": {
      "text/plain": [
       "Text(0.5, 1.0, 'Occupation Vs Purchase')"
      ]
     },
     "execution_count": 32,
     "metadata": {},
     "output_type": "execute_result"
    },
    {
     "data": {
      "image/png": "[encoded data removed]",
      "text/plain": [
       "<Figure size 640x480 with 1 Axes>"
      ]
     },
     "metadata": {},
     "output_type": "display_data"
    }
   ],
   "source": [
    "#Occupation vs Purchase\n",
    "sns.barplot(x='occupation', y='purchase', data=df, palette='rainbow')\n",
    "plt.title('Occupation Vs Purchase')"
   ]
  },
  {
   "cell_type": "code",
   "execution_count": 33,
   "id": "2db91d13",
   "metadata": {
    "execution": {
     "iopub.execute_input": "2024-05-19T09:37:33.368625Z",
     "iopub.status.busy": "2024-05-19T09:37:33.368195Z",
     "iopub.status.idle": "2024-05-19T09:37:38.758490Z",
     "shell.execute_reply": "2024-05-19T09:37:38.757121Z"
    },
    "papermill": {
     "duration": 5.424495,
     "end_time": "2024-05-19T09:37:38.761079",
     "exception": false,
     "start_time": "2024-05-19T09:37:33.336584",
     "status": "completed"
    },
    "tags": []
   },
   "outputs": [
    {
     "data": {
      "text/plain": [
       "Text(0.5, 1.0, 'Product Category 1 Vs Purchase')"
      ]
     },
     "execution_count": 33,
     "metadata": {},
     "output_type": "execute_result"
    },
    {
     "data": {
      "image/png": "[encoded data removed]",
      "text/plain": [
       "<Figure size 640x480 with 1 Axes>"
      ]
     },
     "metadata": {},
     "output_type": "display_data"
    }
   ],
   "source": [
    "#Product Category 1 vs Purchase\n",
    "sns.barplot(x='product_category_1', y='purchase', data=df)\n",
    "plt.title('Product Category 1 Vs Purchase')"
   ]
  },
  {
   "cell_type": "code",
   "execution_count": 34,
   "id": "4b9f91d3",
   "metadata": {
    "execution": {
     "iopub.execute_input": "2024-05-19T09:37:38.828537Z",
     "iopub.status.busy": "2024-05-19T09:37:38.828073Z",
     "iopub.status.idle": "2024-05-19T09:37:44.397546Z",
     "shell.execute_reply": "2024-05-19T09:37:44.396367Z"
    },
    "papermill": {
     "duration": 5.607411,
     "end_time": "2024-05-19T09:37:44.400230",
     "exception": false,
     "start_time": "2024-05-19T09:37:38.792819",
     "status": "completed"
    },
    "tags": []
   },
   "outputs": [
    {
     "data": {
      "text/plain": [
       "Text(0.5, 1.0, 'Product Category 2 Vs Purchase')"
      ]
     },
     "execution_count": 34,
     "metadata": {},
     "output_type": "execute_result"
    },
    {
     "data": {
      "image/png": "[encoded data removed]",
      "text/plain": [
       "<Figure size 640x480 with 1 Axes>"
      ]
     },
     "metadata": {},
     "output_type": "display_data"
    }
   ],
   "source": [
    "#Product Category 2 vs Purchase\n",
    "sns.barplot(x='product_category_2',y='purchase',data=df,palette='rainbow')\n",
    "plt.title('Product Category 2 Vs Purchase')"
   ]
  },
  {
   "cell_type": "code",
   "execution_count": 35,
   "id": "eed11d7c",
   "metadata": {
    "execution": {
     "iopub.execute_input": "2024-05-19T09:37:44.467269Z",
     "iopub.status.busy": "2024-05-19T09:37:44.466354Z",
     "iopub.status.idle": "2024-05-19T09:37:46.501435Z",
     "shell.execute_reply": "2024-05-19T09:37:46.500286Z"
    },
    "papermill": {
     "duration": 2.071081,
     "end_time": "2024-05-19T09:37:46.503951",
     "exception": false,
     "start_time": "2024-05-19T09:37:44.432870",
     "status": "completed"
    },
    "tags": []
   },
   "outputs": [
    {
     "data": {
      "text/plain": [
       "Text(0.5, 1.0, 'Product Category 3 Vs Purchase')"
      ]
     },
     "execution_count": 35,
     "metadata": {},
     "output_type": "execute_result"
    },
    {
     "data": {
      "image/png": "[encoded data removed]",
      "text/plain": [
       "<Figure size 640x480 with 1 Axes>"
      ]
     },
     "metadata": {},
     "output_type": "display_data"
    }
   ],
   "source": [
    "#product category 3 vs Purchase\n",
    "sns.barplot(data=df,x='product_category_3',y='purchase',palette='rainbow')\n",
    "plt.title('Product Category 3 Vs Purchase')"
   ]
  },
  {
   "cell_type": "code",
   "execution_count": 36,
   "id": "45b975de",
   "metadata": {
    "execution": {
     "iopub.execute_input": "2024-05-19T09:37:46.570087Z",
     "iopub.status.busy": "2024-05-19T09:37:46.569661Z",
     "iopub.status.idle": "2024-05-19T09:37:52.583069Z",
     "shell.execute_reply": "2024-05-19T09:37:52.581850Z"
    },
    "papermill": {
     "duration": 6.049657,
     "end_time": "2024-05-19T09:37:52.585636",
     "exception": false,
     "start_time": "2024-05-19T09:37:46.535979",
     "status": "completed"
    },
    "tags": []
   },
   "outputs": [
    {
     "data": {
      "text/plain": [
       "Text(0.5, 1.0, 'Marital Status Vs Purchase')"
      ]
     },
     "execution_count": 36,
     "metadata": {},
     "output_type": "execute_result"
    },
    {
     "data": {
      "image/png": "[encoded data removed]",
      "text/plain": [
       "<Figure size 640x480 with 1 Axes>"
      ]
     },
     "metadata": {},
     "output_type": "display_data"
    }
   ],
   "source": [
    "#Marital Status vs Purchase\n",
    "sns.barplot(data=df,x='marital_status',y='purchase',palette='rainbow')\n",
    "plt.title('Marital Status Vs Purchase')"
   ]
  },
  {
   "cell_type": "markdown",
   "id": "f241487d",
   "metadata": {
    "papermill": {
     "duration": 0.033778,
     "end_time": "2024-05-19T09:37:52.653640",
     "exception": false,
     "start_time": "2024-05-19T09:37:52.619862",
     "status": "completed"
    },
    "tags": []
   },
   "source": [
    "0 for No and 1 for Yes"
   ]
  },
  {
   "cell_type": "code",
   "execution_count": 37,
   "id": "c2d187bc",
   "metadata": {
    "execution": {
     "iopub.execute_input": "2024-05-19T09:37:52.721778Z",
     "iopub.status.busy": "2024-05-19T09:37:52.721349Z",
     "iopub.status.idle": "2024-05-19T09:37:59.123552Z",
     "shell.execute_reply": "2024-05-19T09:37:59.122272Z"
    },
    "papermill": {
     "duration": 6.439473,
     "end_time": "2024-05-19T09:37:59.126354",
     "exception": false,
     "start_time": "2024-05-19T09:37:52.686881",
     "status": "completed"
    },
    "tags": []
   },
   "outputs": [
    {
     "data": {
      "text/plain": [
       "Text(0.5, 1.0, 'Gender Vs Purchase')"
      ]
     },
     "execution_count": 37,
     "metadata": {},
     "output_type": "execute_result"
    },
    {
     "data": {
      "image/png": "[encoded data removed]",
      "text/plain": [
       "<Figure size 640x480 with 1 Axes>"
      ]
     },
     "metadata": {},
     "output_type": "display_data"
    }
   ],
   "source": [
    "#Gender vs Purchase\n",
    "sns.barplot(data=df,x='gender',y='purchase')\n",
    "plt.title('Gender Vs Purchase')"
   ]
  },
  {
   "cell_type": "markdown",
   "id": "01d90431",
   "metadata": {
    "papermill": {
     "duration": 0.035104,
     "end_time": "2024-05-19T09:37:59.196333",
     "exception": false,
     "start_time": "2024-05-19T09:37:59.161229",
     "status": "completed"
    },
    "tags": []
   },
   "source": [
    "0 for female and 1 for male"
   ]
  },
  {
   "cell_type": "code",
   "execution_count": 38,
   "id": "a0bb26fb",
   "metadata": {
    "execution": {
     "iopub.execute_input": "2024-05-19T09:37:59.266948Z",
     "iopub.status.busy": "2024-05-19T09:37:59.266507Z",
     "iopub.status.idle": "2024-05-19T09:37:59.498803Z",
     "shell.execute_reply": "2024-05-19T09:37:59.496890Z"
    },
    "papermill": {
     "duration": 0.272342,
     "end_time": "2024-05-19T09:37:59.504085",
     "exception": false,
     "start_time": "2024-05-19T09:37:59.231743",
     "status": "completed"
    },
    "tags": []
   },
   "outputs": [
    {
     "data": {
      "text/plain": [
       "([<matplotlib.patches.Wedge at 0x7a5c0d7c77c0>,\n",
       "  <matplotlib.patches.Wedge at 0x7a5c0d7c7700>,\n",
       "  <matplotlib.patches.Wedge at 0x7a5c0d5fc370>],\n",
       " [Text(0.27267989579948126, 1.0656667745720443, 'B'),\n",
       "  Text(-0.9774040218269879, -0.5046596656326213, 'C'),\n",
       "  Text(0.7311976184733743, -0.8217968378734892, 'A')],\n",
       " [Text(0.14873448861789884, 0.5812727861302059, '42%'),\n",
       "  Text(-0.5331294664510843, -0.27526890852688435, '31%'),\n",
       "  Text(0.3988350646218405, -0.4482528206582668, '27%')])"
      ]
     },
     "execution_count": 38,
     "metadata": {},
     "output_type": "execute_result"
    },
    {
     "data": {
      "image/png": "[encoded data removed]",
      "text/plain": [
       "<Figure size 640x480 with 1 Axes>"
      ]
     },
     "metadata": {},
     "output_type": "display_data"
    }
   ],
   "source": [
    "#City category pie chart\n",
    "temp = df['city_category'].value_counts().values\n",
    "color = sns.color_palette('rainbow')[0:7]\n",
    "plt.pie(temp, labels=['B','C','A'],colors=color,autopct='%.0f%%')"
   ]
  },
  {
   "cell_type": "markdown",
   "id": "027328f9",
   "metadata": {
    "papermill": {
     "duration": 0.033474,
     "end_time": "2024-05-19T09:37:59.605353",
     "exception": false,
     "start_time": "2024-05-19T09:37:59.571879",
     "status": "completed"
    },
    "tags": []
   },
   "source": [
    "It seems that city B has more customers than city A and city C."
   ]
  },
  {
   "cell_type": "markdown",
   "id": "cd8315c6",
   "metadata": {
    "execution": {
     "iopub.execute_input": "2024-03-09T07:09:25.961225Z",
     "iopub.status.busy": "2024-03-09T07:09:25.960833Z",
     "iopub.status.idle": "2024-03-09T07:09:25.968738Z",
     "shell.execute_reply": "2024-03-09T07:09:25.967527Z",
     "shell.execute_reply.started": "2024-03-09T07:09:25.961197Z"
    },
    "papermill": {
     "duration": 0.034791,
     "end_time": "2024-05-19T09:37:59.673904",
     "exception": false,
     "start_time": "2024-05-19T09:37:59.639113",
     "status": "completed"
    },
    "tags": []
   },
   "source": [
    "Conclusion:-\n",
    "1. Launching the products which are male friendly are more likely to get sell.\n",
    "2. Launching products for adults will get more attention.\n",
    "3. Launching products for unmarried people will sale quickly and profitably.\n",
    "4. Focusing on city B more than the city A and C will be more profitable."
   ]
  },
  {
   "cell_type": "code",
   "execution_count": null,
   "id": "a4400f74",
   "metadata": {
    "papermill": {
     "duration": 0.033779,
     "end_time": "2024-05-19T09:37:59.743953",
     "exception": false,
     "start_time": "2024-05-19T09:37:59.710174",
     "status": "completed"
    },
    "tags": []
   },
   "outputs": [],
   "source": []
  }
 ],
 "metadata": {
  "kaggle": {
   "accelerator": "none",
   "dataSources": [
    {
     "datasetId": 2457185,
     "sourceId": 4163061,
     "sourceType": "datasetVersion"
    }
   ],
   "dockerImageVersionId": 30664,
   "isGpuEnabled": false,
   "isInternetEnabled": false,
   "language": "python",
   "sourceType": "notebook"
  },
  "kernelspec": {
   "display_name": "Python 3",
   "language": "python",
   "name": "python3"
  },
  "language_info": {
   "codemirror_mode": {
    "name": "ipython",
    "version": 3
   },
   "file_extension": ".py",
   "mimetype": "text/x-python",
   "name": "python",
   "nbconvert_exporter": "python",
   "pygments_lexer": "ipython3",
   "version": "3.10.13"
  },
  "papermill": {
   "default_parameters": {},
   "duration": 74.081902,
   "end_time": "2024-05-19T09:38:00.503010",
   "environment_variables": {},
   "exception": null,
   "input_path": "__notebook__.ipynb",
   "output_path": "__notebook__.ipynb",
   "parameters": {},
   "start_time": "2024-05-19T09:36:46.421108",
   "version": "2.5.0"
  }
 },
 "nbformat": 4,
 "nbformat_minor": 5
}
